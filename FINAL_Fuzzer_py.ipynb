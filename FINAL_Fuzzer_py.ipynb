{
  "nbformat": 4,
  "nbformat_minor": 0,
  "metadata": {
    "colab": {
      "provenance": [],
      "collapsed_sections": [
        "RzM1LJTYutnD",
        "_43x3gyYuvqx"
      ],
      "authorship_tag": "ABX9TyM98QnO6VFnxe+CtxYebbK5",
      "include_colab_link": true
    },
    "kernelspec": {
      "name": "python3",
      "display_name": "Python 3"
    },
    "language_info": {
      "name": "python"
    }
  },
  "cells": [
    {
      "cell_type": "markdown",
      "metadata": {
        "id": "view-in-github",
        "colab_type": "text"
      },
      "source": [
        "<a href=\"https://colab.research.google.com/github/MJung-Jo/Learning-Fuzzing/blob/main/FINAL_Fuzzer_py.ipynb\" target=\"_parent\"><img src=\"https://colab.research.google.com/assets/colab-badge.svg\" alt=\"Open In Colab\"/></a>"
      ]
    },
    {
      "cell_type": "markdown",
      "source": [
        "# ◆ Library"
      ],
      "metadata": {
        "id": "dCTWwwyRuczP"
      }
    },
    {
      "cell_type": "code",
      "source": [
        "pip install fuzzingbook"
      ],
      "metadata": {
        "id": "jGPmWEX9ucKZ",
        "colab": {
          "base_uri": "https://localhost:8080/"
        },
        "outputId": "8cf7c42f-bfd7-475c-c956-5cfd5b29707f"
      },
      "execution_count": null,
      "outputs": [
        {
          "output_type": "stream",
          "name": "stdout",
          "text": [
            "Looking in indexes: https://pypi.org/simple, https://us-python.pkg.dev/colab-wheels/public/simple/\n",
            "Requirement already satisfied: fuzzingbook in /usr/local/lib/python3.10/dist-packages (1.1)\n",
            "Requirement already satisfied: beautifulsoup4>=4.9.3 in /usr/local/lib/python3.10/dist-packages (from fuzzingbook) (4.11.2)\n",
            "Requirement already satisfied: cargo>=0.3 in /usr/local/lib/python3.10/dist-packages (from fuzzingbook) (0.3)\n",
            "Requirement already satisfied: diff-match-patch>=20200713 in /usr/local/lib/python3.10/dist-packages (from fuzzingbook) (20230430)\n",
            "Requirement already satisfied: easyplotly>=0.1.3 in /usr/local/lib/python3.10/dist-packages (from fuzzingbook) (0.1.3)\n",
            "Requirement already satisfied: enforce>=0.3.4 in /usr/local/lib/python3.10/dist-packages (from fuzzingbook) (0.3.4)\n",
            "Requirement already satisfied: graphviz>=0.14.2 in /usr/local/lib/python3.10/dist-packages (from fuzzingbook) (0.20.1)\n",
            "Requirement already satisfied: ipython>=7.16.1 in /usr/local/lib/python3.10/dist-packages (from fuzzingbook) (7.34.0)\n",
            "Requirement already satisfied: lxml>=4.5.1 in /usr/local/lib/python3.10/dist-packages (from fuzzingbook) (4.9.2)\n",
            "Requirement already satisfied: Markdown>=3.3.4 in /usr/local/lib/python3.10/dist-packages (from fuzzingbook) (3.4.3)\n",
            "Requirement already satisfied: matplotlib>=3.3.2 in /usr/local/lib/python3.10/dist-packages (from fuzzingbook) (3.7.1)\n",
            "Requirement already satisfied: multiprocess>=0.70.12.2 in /usr/local/lib/python3.10/dist-packages (from fuzzingbook) (0.70.14)\n",
            "Requirement already satisfied: nbconvert>=6.0.7 in /usr/local/lib/python3.10/dist-packages (from fuzzingbook) (6.5.4)\n",
            "Requirement already satisfied: nbformat>=5.0.8 in /usr/local/lib/python3.10/dist-packages (from fuzzingbook) (5.8.0)\n",
            "Requirement already satisfied: networkx>=2.5 in /usr/local/lib/python3.10/dist-packages (from fuzzingbook) (3.1)\n",
            "Requirement already satisfied: notedown>=1.5.1 in /usr/local/lib/python3.10/dist-packages (from fuzzingbook) (1.5.1)\n",
            "Requirement already satisfied: numpy>=1.16.5 in /usr/local/lib/python3.10/dist-packages (from fuzzingbook) (1.22.4)\n",
            "Requirement already satisfied: pandas>=1.3.3 in /usr/local/lib/python3.10/dist-packages (from fuzzingbook) (1.5.3)\n",
            "Requirement already satisfied: pydot>=1.4.2 in /usr/local/lib/python3.10/dist-packages (from fuzzingbook) (1.4.2)\n",
            "Requirement already satisfied: pyparsing==2.4.7 in /usr/local/lib/python3.10/dist-packages (from fuzzingbook) (2.4.7)\n",
            "Requirement already satisfied: Pygments>=2.7.1 in /usr/local/lib/python3.10/dist-packages (from fuzzingbook) (2.14.0)\n",
            "Requirement already satisfied: python-magic>=0.4.18 in /usr/local/lib/python3.10/dist-packages (from fuzzingbook) (0.4.27)\n",
            "Requirement already satisfied: scikit-learn>=0.23.2 in /usr/local/lib/python3.10/dist-packages (from fuzzingbook) (1.2.2)\n",
            "Requirement already satisfied: scipy>=1.7.1 in /usr/local/lib/python3.10/dist-packages (from fuzzingbook) (1.10.1)\n",
            "Requirement already satisfied: selenium>=3.141.0 in /usr/local/lib/python3.10/dist-packages (from fuzzingbook) (4.10.0)\n",
            "Requirement already satisfied: showast>=0.2.4 in /usr/local/lib/python3.10/dist-packages (from fuzzingbook) (0.2.4)\n",
            "Requirement already satisfied: svglib>=1.1.0 in /usr/local/lib/python3.10/dist-packages (from fuzzingbook) (1.5.1)\n",
            "Requirement already satisfied: types-Markdown>=3 in /usr/local/lib/python3.10/dist-packages (from fuzzingbook) (3.4.2.9)\n",
            "Requirement already satisfied: yapf>=0.31.0 in /usr/local/lib/python3.10/dist-packages (from fuzzingbook) (0.40.1)\n",
            "Requirement already satisfied: z3-solver>=4.8.13.0 in /usr/local/lib/python3.10/dist-packages (from fuzzingbook) (4.12.2.0)\n",
            "Requirement already satisfied: soupsieve>1.2 in /usr/local/lib/python3.10/dist-packages (from beautifulsoup4>=4.9.3->fuzzingbook) (2.4.1)\n",
            "Requirement already satisfied: plotly in /usr/local/lib/python3.10/dist-packages (from easyplotly>=0.1.3->fuzzingbook) (5.13.1)\n",
            "Requirement already satisfied: wrapt in /usr/local/lib/python3.10/dist-packages (from enforce>=0.3.4->fuzzingbook) (1.14.1)\n",
            "Requirement already satisfied: setuptools>=18.5 in /usr/local/lib/python3.10/dist-packages (from ipython>=7.16.1->fuzzingbook) (67.7.2)\n",
            "Requirement already satisfied: jedi>=0.16 in /usr/local/lib/python3.10/dist-packages (from ipython>=7.16.1->fuzzingbook) (0.18.2)\n",
            "Requirement already satisfied: decorator in /usr/local/lib/python3.10/dist-packages (from ipython>=7.16.1->fuzzingbook) (4.4.2)\n",
            "Requirement already satisfied: pickleshare in /usr/local/lib/python3.10/dist-packages (from ipython>=7.16.1->fuzzingbook) (0.7.5)\n",
            "Requirement already satisfied: traitlets>=4.2 in /usr/local/lib/python3.10/dist-packages (from ipython>=7.16.1->fuzzingbook) (5.7.1)\n",
            "Requirement already satisfied: prompt-toolkit!=3.0.0,!=3.0.1,<3.1.0,>=2.0.0 in /usr/local/lib/python3.10/dist-packages (from ipython>=7.16.1->fuzzingbook) (3.0.38)\n",
            "Requirement already satisfied: backcall in /usr/local/lib/python3.10/dist-packages (from ipython>=7.16.1->fuzzingbook) (0.2.0)\n",
            "Requirement already satisfied: matplotlib-inline in /usr/local/lib/python3.10/dist-packages (from ipython>=7.16.1->fuzzingbook) (0.1.6)\n",
            "Requirement already satisfied: pexpect>4.3 in /usr/local/lib/python3.10/dist-packages (from ipython>=7.16.1->fuzzingbook) (4.8.0)\n",
            "Requirement already satisfied: contourpy>=1.0.1 in /usr/local/lib/python3.10/dist-packages (from matplotlib>=3.3.2->fuzzingbook) (1.0.7)\n",
            "Requirement already satisfied: cycler>=0.10 in /usr/local/lib/python3.10/dist-packages (from matplotlib>=3.3.2->fuzzingbook) (0.11.0)\n",
            "Requirement already satisfied: fonttools>=4.22.0 in /usr/local/lib/python3.10/dist-packages (from matplotlib>=3.3.2->fuzzingbook) (4.39.3)\n",
            "Requirement already satisfied: kiwisolver>=1.0.1 in /usr/local/lib/python3.10/dist-packages (from matplotlib>=3.3.2->fuzzingbook) (1.4.4)\n",
            "Requirement already satisfied: packaging>=20.0 in /usr/local/lib/python3.10/dist-packages (from matplotlib>=3.3.2->fuzzingbook) (23.1)\n",
            "Requirement already satisfied: pillow>=6.2.0 in /usr/local/lib/python3.10/dist-packages (from matplotlib>=3.3.2->fuzzingbook) (9.5.0)\n",
            "Requirement already satisfied: python-dateutil>=2.7 in /usr/local/lib/python3.10/dist-packages (from matplotlib>=3.3.2->fuzzingbook) (2.8.2)\n",
            "Requirement already satisfied: dill>=0.3.6 in /usr/local/lib/python3.10/dist-packages (from multiprocess>=0.70.12.2->fuzzingbook) (0.3.6)\n",
            "Requirement already satisfied: bleach in /usr/local/lib/python3.10/dist-packages (from nbconvert>=6.0.7->fuzzingbook) (6.0.0)\n",
            "Requirement already satisfied: defusedxml in /usr/local/lib/python3.10/dist-packages (from nbconvert>=6.0.7->fuzzingbook) (0.7.1)\n",
            "Requirement already satisfied: entrypoints>=0.2.2 in /usr/local/lib/python3.10/dist-packages (from nbconvert>=6.0.7->fuzzingbook) (0.4)\n",
            "Requirement already satisfied: jinja2>=3.0 in /usr/local/lib/python3.10/dist-packages (from nbconvert>=6.0.7->fuzzingbook) (3.1.2)\n",
            "Requirement already satisfied: jupyter-core>=4.7 in /usr/local/lib/python3.10/dist-packages (from nbconvert>=6.0.7->fuzzingbook) (5.3.0)\n",
            "Requirement already satisfied: jupyterlab-pygments in /usr/local/lib/python3.10/dist-packages (from nbconvert>=6.0.7->fuzzingbook) (0.2.2)\n",
            "Requirement already satisfied: MarkupSafe>=2.0 in /usr/local/lib/python3.10/dist-packages (from nbconvert>=6.0.7->fuzzingbook) (2.1.2)\n",
            "Requirement already satisfied: mistune<2,>=0.8.1 in /usr/local/lib/python3.10/dist-packages (from nbconvert>=6.0.7->fuzzingbook) (0.8.4)\n",
            "Requirement already satisfied: nbclient>=0.5.0 in /usr/local/lib/python3.10/dist-packages (from nbconvert>=6.0.7->fuzzingbook) (0.7.4)\n",
            "Requirement already satisfied: pandocfilters>=1.4.1 in /usr/local/lib/python3.10/dist-packages (from nbconvert>=6.0.7->fuzzingbook) (1.5.0)\n",
            "Requirement already satisfied: tinycss2 in /usr/local/lib/python3.10/dist-packages (from nbconvert>=6.0.7->fuzzingbook) (1.2.1)\n",
            "Requirement already satisfied: fastjsonschema in /usr/local/lib/python3.10/dist-packages (from nbformat>=5.0.8->fuzzingbook) (2.16.3)\n",
            "Requirement already satisfied: jsonschema>=2.6 in /usr/local/lib/python3.10/dist-packages (from nbformat>=5.0.8->fuzzingbook) (4.3.3)\n",
            "Requirement already satisfied: pandoc-attributes in /usr/local/lib/python3.10/dist-packages (from notedown>=1.5.1->fuzzingbook) (0.1.7)\n",
            "Requirement already satisfied: six in /usr/local/lib/python3.10/dist-packages (from notedown>=1.5.1->fuzzingbook) (1.16.0)\n",
            "Requirement already satisfied: pytz>=2020.1 in /usr/local/lib/python3.10/dist-packages (from pandas>=1.3.3->fuzzingbook) (2022.7.1)\n",
            "Requirement already satisfied: joblib>=1.1.1 in /usr/local/lib/python3.10/dist-packages (from scikit-learn>=0.23.2->fuzzingbook) (1.2.0)\n",
            "Requirement already satisfied: threadpoolctl>=2.0.0 in /usr/local/lib/python3.10/dist-packages (from scikit-learn>=0.23.2->fuzzingbook) (3.1.0)\n",
            "Requirement already satisfied: urllib3[socks]<3,>=1.26 in /usr/local/lib/python3.10/dist-packages (from selenium>=3.141.0->fuzzingbook) (1.26.15)\n",
            "Requirement already satisfied: trio~=0.17 in /usr/local/lib/python3.10/dist-packages (from selenium>=3.141.0->fuzzingbook) (0.22.0)\n",
            "Requirement already satisfied: trio-websocket~=0.9 in /usr/local/lib/python3.10/dist-packages (from selenium>=3.141.0->fuzzingbook) (0.10.3)\n",
            "Requirement already satisfied: certifi>=2021.10.8 in /usr/local/lib/python3.10/dist-packages (from selenium>=3.141.0->fuzzingbook) (2022.12.7)\n",
            "Requirement already satisfied: reportlab in /usr/local/lib/python3.10/dist-packages (from svglib>=1.1.0->fuzzingbook) (4.0.4)\n",
            "Requirement already satisfied: cssselect2>=0.2.0 in /usr/local/lib/python3.10/dist-packages (from svglib>=1.1.0->fuzzingbook) (0.7.0)\n",
            "Requirement already satisfied: importlib-metadata>=6.6.0 in /usr/local/lib/python3.10/dist-packages (from yapf>=0.31.0->fuzzingbook) (6.7.0)\n",
            "Requirement already satisfied: platformdirs>=3.5.1 in /usr/local/lib/python3.10/dist-packages (from yapf>=0.31.0->fuzzingbook) (3.8.0)\n",
            "Requirement already satisfied: tomli>=2.0.1 in /usr/local/lib/python3.10/dist-packages (from yapf>=0.31.0->fuzzingbook) (2.0.1)\n",
            "Requirement already satisfied: webencodings in /usr/local/lib/python3.10/dist-packages (from cssselect2>=0.2.0->svglib>=1.1.0->fuzzingbook) (0.5.1)\n",
            "Requirement already satisfied: zipp>=0.5 in /usr/local/lib/python3.10/dist-packages (from importlib-metadata>=6.6.0->yapf>=0.31.0->fuzzingbook) (3.15.0)\n",
            "Requirement already satisfied: parso<0.9.0,>=0.8.0 in /usr/local/lib/python3.10/dist-packages (from jedi>=0.16->ipython>=7.16.1->fuzzingbook) (0.8.3)\n",
            "Requirement already satisfied: attrs>=17.4.0 in /usr/local/lib/python3.10/dist-packages (from jsonschema>=2.6->nbformat>=5.0.8->fuzzingbook) (23.1.0)\n",
            "Requirement already satisfied: pyrsistent!=0.17.0,!=0.17.1,!=0.17.2,>=0.14.0 in /usr/local/lib/python3.10/dist-packages (from jsonschema>=2.6->nbformat>=5.0.8->fuzzingbook) (0.19.3)\n",
            "Requirement already satisfied: jupyter-client>=6.1.12 in /usr/local/lib/python3.10/dist-packages (from nbclient>=0.5.0->nbconvert>=6.0.7->fuzzingbook) (6.1.12)\n",
            "Requirement already satisfied: ptyprocess>=0.5 in /usr/local/lib/python3.10/dist-packages (from pexpect>4.3->ipython>=7.16.1->fuzzingbook) (0.7.0)\n",
            "Requirement already satisfied: wcwidth in /usr/local/lib/python3.10/dist-packages (from prompt-toolkit!=3.0.0,!=3.0.1,<3.1.0,>=2.0.0->ipython>=7.16.1->fuzzingbook) (0.2.6)\n",
            "Requirement already satisfied: sortedcontainers in /usr/local/lib/python3.10/dist-packages (from trio~=0.17->selenium>=3.141.0->fuzzingbook) (2.4.0)\n",
            "Requirement already satisfied: async-generator>=1.9 in /usr/local/lib/python3.10/dist-packages (from trio~=0.17->selenium>=3.141.0->fuzzingbook) (1.10)\n",
            "Requirement already satisfied: idna in /usr/local/lib/python3.10/dist-packages (from trio~=0.17->selenium>=3.141.0->fuzzingbook) (3.4)\n",
            "Requirement already satisfied: outcome in /usr/local/lib/python3.10/dist-packages (from trio~=0.17->selenium>=3.141.0->fuzzingbook) (1.2.0)\n",
            "Requirement already satisfied: sniffio in /usr/local/lib/python3.10/dist-packages (from trio~=0.17->selenium>=3.141.0->fuzzingbook) (1.3.0)\n",
            "Requirement already satisfied: exceptiongroup>=1.0.0rc9 in /usr/local/lib/python3.10/dist-packages (from trio~=0.17->selenium>=3.141.0->fuzzingbook) (1.1.1)\n",
            "Requirement already satisfied: wsproto>=0.14 in /usr/local/lib/python3.10/dist-packages (from trio-websocket~=0.9->selenium>=3.141.0->fuzzingbook) (1.2.0)\n",
            "Requirement already satisfied: PySocks!=1.5.7,<2.0,>=1.5.6 in /usr/local/lib/python3.10/dist-packages (from urllib3[socks]<3,>=1.26->selenium>=3.141.0->fuzzingbook) (1.7.1)\n",
            "Requirement already satisfied: tenacity>=6.2.0 in /usr/local/lib/python3.10/dist-packages (from plotly->easyplotly>=0.1.3->fuzzingbook) (8.2.2)\n",
            "Requirement already satisfied: pyzmq>=13 in /usr/local/lib/python3.10/dist-packages (from jupyter-client>=6.1.12->nbclient>=0.5.0->nbconvert>=6.0.7->fuzzingbook) (23.2.1)\n",
            "Requirement already satisfied: tornado>=4.1 in /usr/local/lib/python3.10/dist-packages (from jupyter-client>=6.1.12->nbclient>=0.5.0->nbconvert>=6.0.7->fuzzingbook) (6.3.1)\n",
            "Requirement already satisfied: h11<1,>=0.9.0 in /usr/local/lib/python3.10/dist-packages (from wsproto>=0.14->trio-websocket~=0.9->selenium>=3.141.0->fuzzingbook) (0.14.0)\n"
          ]
        }
      ]
    },
    {
      "cell_type": "code",
      "source": [
        "from typing import List, Set, Dict, Sequence, cast, Any, Tuple, Union, Callable\n",
        "import sqlparse\n",
        "import sqlite3\n",
        "import re\n",
        "import time\n",
        "import random\n",
        "\n",
        "import matplotlib.pyplot as plt\n",
        "import numpy as np"
      ],
      "metadata": {
        "id": "LlzNn-7uupzh"
      },
      "execution_count": null,
      "outputs": []
    },
    {
      "cell_type": "code",
      "source": [
        "from fuzzingbook.Coverage import Coverage\n",
        "from fuzzingbook.Fuzzer import Fuzzer, Runner\n",
        "from fuzzingbook.GreyboxFuzzer import Mutator, Seed, PowerSchedule, AdvancedMutationFuzzer\n",
        "from fuzzingbook.Coverage import population_coverage"
      ],
      "metadata": {
        "id": "UnqTdkP9uqhd"
      },
      "execution_count": null,
      "outputs": []
    },
    {
      "cell_type": "markdown",
      "source": [
        "# ◆ Seed\n",
        "\n",
        "Final Output : query"
      ],
      "metadata": {
        "id": "XJsFVM5-rUVd"
      }
    },
    {
      "cell_type": "markdown",
      "source": [
        "Extract only characters within `<code></code>`"
      ],
      "metadata": {
        "id": "OfU1h8JQrqFT"
      }
    },
    {
      "cell_type": "code",
      "execution_count": null,
      "metadata": {
        "id": "N1iD6vPFrM46"
      },
      "outputs": [],
      "source": [
        "import requests\n",
        "from bs4 import BeautifulSoup"
      ]
    },
    {
      "cell_type": "code",
      "source": [
        "# Character extraction target URL\n",
        "url = \"https://www.sqlite.org/src/file?name=test/fts3e.test&ci=eddc05e7bb31fae7\""
      ],
      "metadata": {
        "id": "Ywti7BTzsPeO"
      },
      "execution_count": null,
      "outputs": []
    },
    {
      "cell_type": "code",
      "source": [
        "def extract_Char(url: str) -> str:\n",
        "    response = requests.get(url)\n",
        "    html = response.text\n",
        "\n",
        "    # HTML parsing\n",
        "    soup = BeautifulSoup(html, 'html.parser')\n",
        "\n",
        "    # Extract characters in <code></code>\n",
        "    code_tag = soup.find('code')\n",
        "    code_content = code_tag.get_text()\n",
        "\n",
        "    # Check\n",
        "    print(code_content)\n",
        "\n",
        "    return code_content"
      ],
      "metadata": {
        "id": "vn75n4TysWox"
      },
      "execution_count": null,
      "outputs": []
    },
    {
      "cell_type": "code",
      "source": [
        "extract_char = extract_Char(url)"
      ],
      "metadata": {
        "colab": {
          "base_uri": "https://localhost:8080/"
        },
        "id": "R8x4U_UXw-r1",
        "outputId": "04c99f69-738c-430f-ad50-a90cfc29c28b"
      },
      "execution_count": null,
      "outputs": [
        {
          "output_type": "stream",
          "name": "stdout",
          "text": [
            "# 2008 July 29\n",
            "#\n",
            "# The author disclaims copyright to this source code.  In place of\n",
            "# a legal notice, here is a blessing:\n",
            "#\n",
            "#    May you do good and not evil.\n",
            "#    May you find forgiveness for yourself and forgive others.\n",
            "#    May you share freely, never taking more than you give.\n",
            "#\n",
            "#*************************************************************************\n",
            "# These tests exercise the various types of fts3 cursors.\n",
            "#\n",
            "# $Id: fts3e.test,v 1.1 2008/07/29 20:24:46 shess Exp $\n",
            "#\n",
            "\n",
            "set testdir [file dirname $argv0]\n",
            "source $testdir/tester.tcl\n",
            "\n",
            "# If SQLITE_ENABLE_FTS3 is not defined, omit this file.\n",
            "ifcapable !fts3 {\n",
            "  finish_test\n",
            "  return\n",
            "}\n",
            "\n",
            "#*************************************************************************\n",
            "# Test table scan (QUERY_GENERIC).  This kind of query happens for\n",
            "# queries with no WHERE clause, or for WHERE clauses which cannot be\n",
            "# satisfied by an index.\n",
            "db eval {\n",
            "  DROP TABLE IF EXISTS t1;\n",
            "  CREATE VIRTUAL TABLE t1 USING fts3(c);\n",
            "  INSERT INTO t1 (docid, c) VALUES (1, 'This is a test');\n",
            "  INSERT INTO t1 (docid, c) VALUES (2, 'That was a test');\n",
            "  INSERT INTO t1 (docid, c) VALUES (3, 'This is a test');\n",
            "}\n",
            "\n",
            "do_test fts3e-1.1 {\n",
            "  execsql {\n",
            "    SELECT docid FROM t1 ORDER BY docid;\n",
            "  }\n",
            "} {1 2 3}\n",
            "\n",
            "do_test fts3e-1.2 {\n",
            "  execsql {\n",
            "    SELECT docid FROM t1 WHERE c LIKE '%test' ORDER BY docid;\n",
            "  }\n",
            "} {1 2 3}\n",
            "\n",
            "do_test fts3e-1.3 {\n",
            "  execsql {\n",
            "    SELECT docid FROM t1 WHERE c LIKE 'That%' ORDER BY docid;\n",
            "  }\n",
            "} {2}\n",
            "\n",
            "#*************************************************************************\n",
            "# Test lookup by docid (QUERY_DOCID).  This kind of query happens for\n",
            "# queries which select by the docid/rowid implicit index.\n",
            "db eval {\n",
            "  DROP TABLE IF EXISTS t1;\n",
            "  DROP TABLE IF EXISTS t2;\n",
            "  CREATE VIRTUAL TABLE t1 USING fts3(c);\n",
            "  CREATE TABLE t2(id INTEGER PRIMARY KEY AUTOINCREMENT, weight INTEGER UNIQUE);\n",
            "  INSERT INTO t2 VALUES (null, 10);\n",
            "  INSERT INTO t1 (docid, c) VALUES (last_insert_rowid(), 'This is a test');\n",
            "  INSERT INTO t2 VALUES (null, 5);\n",
            "  INSERT INTO t1 (docid, c) VALUES (last_insert_rowid(), 'That was a test');\n",
            "  INSERT INTO t2 VALUES (null, 20);\n",
            "  INSERT INTO t1 (docid, c) VALUES (last_insert_rowid(), 'This is a test');\n",
            "}\n",
            "\n",
            "# TODO(shess): This actually is doing QUERY_GENERIC?  I'd have\n",
            "# expected QUERY_DOCID in this case, as for a very large table the\n",
            "# full scan is less efficient.\n",
            "do_test fts3e-2.1 {\n",
            "  execsql {\n",
            "    SELECT docid FROM t1 WHERE docid in (1, 2, 10);\n",
            "    SELECT rowid FROM t1 WHERE rowid in (1, 2, 10);\n",
            "  }\n",
            "} {1 2 1 2}\n",
            "\n",
            "do_test fts3e-2.2 {\n",
            "  execsql {\n",
            "    SELECT docid, weight FROM t1, t2 WHERE t2.id = t1.docid ORDER BY weight;\n",
            "    SELECT t1.rowid, weight FROM t1, t2 WHERE t2.id = t1.rowid ORDER BY weight;\n",
            "  }\n",
            "} {2 5 1 10 3 20 2 5 1 10 3 20}\n",
            "\n",
            "do_test fts3e-2.3 {\n",
            "  execsql {\n",
            "    SELECT docid, weight FROM t1, t2\n",
            "           WHERE t2.weight>5 AND t2.id = t1.docid ORDER BY weight;\n",
            "    SELECT t1.rowid, weight FROM t1, t2\n",
            "           WHERE t2.weight>5 AND t2.id = t1.rowid ORDER BY weight;\n",
            "  }\n",
            "} {1 10 3 20 1 10 3 20}\n",
            "\n",
            "#*************************************************************************\n",
            "# Test lookup by MATCH (QUERY_FULLTEXT).  This is the fulltext index.\n",
            "db eval {\n",
            "  DROP TABLE IF EXISTS t1;\n",
            "  DROP TABLE IF EXISTS t2;\n",
            "  CREATE VIRTUAL TABLE t1 USING fts3(c);\n",
            "  CREATE TABLE t2(id INTEGER PRIMARY KEY AUTOINCREMENT, weight INTEGER UNIQUE);\n",
            "  INSERT INTO t2 VALUES (null, 10);\n",
            "  INSERT INTO t1 (docid, c) VALUES (last_insert_rowid(), 'This is a test');\n",
            "  INSERT INTO t2 VALUES (null, 5);\n",
            "  INSERT INTO t1 (docid, c) VALUES (last_insert_rowid(), 'That was a test');\n",
            "  INSERT INTO t2 VALUES (null, 20);\n",
            "  INSERT INTO t1 (docid, c) VALUES (last_insert_rowid(), 'This is a test');\n",
            "}\n",
            "\n",
            "do_test fts3e-3.1 {\n",
            "  execsql {\n",
            "    SELECT docid FROM t1 WHERE t1 MATCH 'this' ORDER BY docid;\n",
            "  }\n",
            "} {1 3}\n",
            "\n",
            "do_test fts3e-3.2 {\n",
            "  execsql {\n",
            "    SELECT docid, weight FROM t1, t2\n",
            "     WHERE t1 MATCH 'this' AND t1.docid = t2.id ORDER BY weight;\n",
            "  }\n",
            "} {1 10 3 20}\n",
            "\n",
            "finish_test\n",
            "\n"
          ]
        }
      ]
    },
    {
      "cell_type": "markdown",
      "source": [
        "Extract only the SQL code from the extracted characters"
      ],
      "metadata": {
        "id": "b_9jDH4Hsm0L"
      }
    },
    {
      "cell_type": "code",
      "source": [
        "def extract_SQLCode(extract_char) -> str:\n",
        "    # Extract target pattern\n",
        "    patterns = [\n",
        "        # DML\n",
        "        r\"SELECT.*?;\", r\"INSERT INTO.*?;\",\n",
        "        r\"UPDATE.*?;\", r\"DELETE.*?;\",\n",
        "        # DDL\n",
        "        r\"CREATE.*?;\", r\"ALTER.*?;\",\n",
        "        r\"DROP.*?;\", r\"RENAME.*?;\", r\"TRUNCATE.*?;\",\n",
        "        # DCL\n",
        "        r\"GRANT.*?;\", r\"REVOKE.*?;\",\n",
        "    ]\n",
        "\n",
        "    # Sort codes in the order they came in\n",
        "    queries = []\n",
        "    for pattern in patterns:\n",
        "        queries.extend(re.finditer(pattern, extract_char, re.DOTALL))\n",
        "\n",
        "    queries.sort(key=lambda x: x.start())\n",
        "\n",
        "    ## Change to one string\n",
        "    query = \"\"\n",
        "    for match in queries:\n",
        "        query = query + match.group() + '\\n'\n",
        "\n",
        "    # Test\n",
        "    print(query)\n",
        "\n",
        "    return query"
      ],
      "metadata": {
        "id": "JJH3po4estJC"
      },
      "execution_count": null,
      "outputs": []
    },
    {
      "cell_type": "code",
      "source": [
        "query = extract_SQLCode(extract_char)"
      ],
      "metadata": {
        "colab": {
          "base_uri": "https://localhost:8080/"
        },
        "id": "p3JYIEZdxEo7",
        "outputId": "51c438f8-73e1-4926-86a4-73a20f6c7551"
      },
      "execution_count": null,
      "outputs": [
        {
          "output_type": "stream",
          "name": "stdout",
          "text": [
            "DROP TABLE IF EXISTS t1;\n",
            "CREATE VIRTUAL TABLE t1 USING fts3(c);\n",
            "INSERT INTO t1 (docid, c) VALUES (1, 'This is a test');\n",
            "INSERT INTO t1 (docid, c) VALUES (2, 'That was a test');\n",
            "INSERT INTO t1 (docid, c) VALUES (3, 'This is a test');\n",
            "SELECT docid FROM t1 ORDER BY docid;\n",
            "SELECT docid FROM t1 WHERE c LIKE '%test' ORDER BY docid;\n",
            "SELECT docid FROM t1 WHERE c LIKE 'That%' ORDER BY docid;\n",
            "DROP TABLE IF EXISTS t1;\n",
            "DROP TABLE IF EXISTS t2;\n",
            "CREATE VIRTUAL TABLE t1 USING fts3(c);\n",
            "CREATE TABLE t2(id INTEGER PRIMARY KEY AUTOINCREMENT, weight INTEGER UNIQUE);\n",
            "INSERT INTO t2 VALUES (null, 10);\n",
            "INSERT INTO t1 (docid, c) VALUES (last_insert_rowid(), 'This is a test');\n",
            "INSERT INTO t2 VALUES (null, 5);\n",
            "INSERT INTO t1 (docid, c) VALUES (last_insert_rowid(), 'That was a test');\n",
            "INSERT INTO t2 VALUES (null, 20);\n",
            "INSERT INTO t1 (docid, c) VALUES (last_insert_rowid(), 'This is a test');\n",
            "SELECT docid FROM t1 WHERE docid in (1, 2, 10);\n",
            "SELECT rowid FROM t1 WHERE rowid in (1, 2, 10);\n",
            "SELECT docid, weight FROM t1, t2 WHERE t2.id = t1.docid ORDER BY weight;\n",
            "SELECT t1.rowid, weight FROM t1, t2 WHERE t2.id = t1.rowid ORDER BY weight;\n",
            "SELECT docid, weight FROM t1, t2\n",
            "           WHERE t2.weight>5 AND t2.id = t1.docid ORDER BY weight;\n",
            "SELECT t1.rowid, weight FROM t1, t2\n",
            "           WHERE t2.weight>5 AND t2.id = t1.rowid ORDER BY weight;\n",
            "DROP TABLE IF EXISTS t1;\n",
            "DROP TABLE IF EXISTS t2;\n",
            "CREATE VIRTUAL TABLE t1 USING fts3(c);\n",
            "CREATE TABLE t2(id INTEGER PRIMARY KEY AUTOINCREMENT, weight INTEGER UNIQUE);\n",
            "INSERT INTO t2 VALUES (null, 10);\n",
            "INSERT INTO t1 (docid, c) VALUES (last_insert_rowid(), 'This is a test');\n",
            "INSERT INTO t2 VALUES (null, 5);\n",
            "INSERT INTO t1 (docid, c) VALUES (last_insert_rowid(), 'That was a test');\n",
            "INSERT INTO t2 VALUES (null, 20);\n",
            "INSERT INTO t1 (docid, c) VALUES (last_insert_rowid(), 'This is a test');\n",
            "SELECT docid FROM t1 WHERE t1 MATCH 'this' ORDER BY docid;\n",
            "SELECT docid, weight FROM t1, t2\n",
            "     WHERE t1 MATCH 'this' AND t1.docid = t2.id ORDER BY weight;\n",
            "\n"
          ]
        }
      ]
    },
    {
      "cell_type": "markdown",
      "source": [
        "# ◆ Target\n",
        "\n",
        "Function : my_sql_parser"
      ],
      "metadata": {
        "id": "RzM1LJTYutnD"
      }
    },
    {
      "cell_type": "code",
      "source": [
        "def my_sql_parser(query: str) -> Any:\n",
        "    parsed = sqlparse.parse(query, encoding=None)\n",
        "    return parsed"
      ],
      "metadata": {
        "id": "pwmY8jexuu5W"
      },
      "execution_count": null,
      "outputs": []
    },
    {
      "cell_type": "markdown",
      "source": [
        "# ◆ New Runner\n",
        "\n",
        "class : sql_parser_Coverage_Runner\n"
      ],
      "metadata": {
        "id": "_43x3gyYuvqx"
      }
    },
    {
      "cell_type": "code",
      "source": [
        "class sql_parser_Runner(Runner):\n",
        "    # run single query\n",
        "    # 초기화\n",
        "    def __init__(self, function: Callable) -> None:\n",
        "        self.function = function\n",
        "\n",
        "    # 실행\n",
        "    def run_function(self, inp: Any) -> Any:\n",
        "        return self.function(inp)\n",
        "\n",
        "    '''SQLite실행하여 syntax error유무에 따라 문맥 이상을 탐지'''\n",
        "    def check_syntax_error(self, query: str):\n",
        "        # 메모리에다가 DB서버를 구성(연결)하기\n",
        "        conn = sqlite3.connect(\":memory:\")\n",
        "        # sql문 작성하고 실행할 수 있는 메모리 영역 만들기\n",
        "        cursor = conn.cursor()\n",
        "\n",
        "        try:\n",
        "            cursor.execute(query)\n",
        "            return True\n",
        "\n",
        "        except Exception as e:\n",
        "            if 'syntax' in str(e):\n",
        "                return False # \"syntax error\"의 경우 FALSE를 반환\n",
        "            else:\n",
        "                return True\n",
        "\n",
        "        cursor.close()\n",
        "        conn.close()\n",
        "\n",
        "    def run(self, inp: str) -> Any:\n",
        "        check_syntax_error = self.check_syntax_error(inp)\n",
        "        parsed = self.run_function(inp)\n",
        "\n",
        "        if check_syntax_error:\n",
        "            if parsed:\n",
        "                result = parsed[0]\n",
        "                outcome = self.PASS\n",
        "            else:\n",
        "                result = parsed[0]\n",
        "                outcome = self.FAIL\n",
        "        else:\n",
        "            result = parsed[0]\n",
        "            outcome = self.FAIL\n",
        "\n",
        "        return (result, outcome)"
      ],
      "metadata": {
        "id": "1lHbvrmquw6y"
      },
      "execution_count": null,
      "outputs": []
    },
    {
      "cell_type": "code",
      "source": [
        "Location = Tuple[str, int]\n",
        "class sql_parser_Coverage_Runner(sql_parser_Runner):\n",
        "    def run_function(self, inp: Any) -> Any:\n",
        "        with Coverage() as cov:\n",
        "            try:\n",
        "                result = super().run_function(inp)\n",
        "            except Exception as e:\n",
        "                self._coverage = cov.coverage()\n",
        "                raise e\n",
        "\n",
        "        self._coverage = cov.coverage()\n",
        "        return result\n",
        "\n",
        "    def coverage(self) -> Set[Location]:\n",
        "        return self._coverage"
      ],
      "metadata": {
        "id": "0HT0l02Euz1t"
      },
      "execution_count": null,
      "outputs": []
    },
    {
      "cell_type": "code",
      "source": [
        "## string -> List\n",
        "queries = query.replace('\\n', '').split(';')\n",
        "## 공백 및 빈 문자열 제거\n",
        "queries = [inp.strip() for inp in queries if inp.strip()]"
      ],
      "metadata": {
        "id": "10QHIV_CxkId"
      },
      "execution_count": null,
      "outputs": []
    },
    {
      "cell_type": "code",
      "source": [
        "test_Runner = sql_parser_Coverage_Runner(my_sql_parser)\n",
        "\n",
        "# SQL 한 문장만 실행하도록 조정\n",
        "for q in queries:\n",
        "    print(test_Runner.run(q))"
      ],
      "metadata": {
        "colab": {
          "base_uri": "https://localhost:8080/"
        },
        "id": "CkXB4DTpvTXO",
        "outputId": "5b00aef4-e945-443b-fa16-1b2f6038a353"
      },
      "execution_count": null,
      "outputs": [
        {
          "output_type": "stream",
          "name": "stdout",
          "text": [
            "(<Statement 'DROP T...' at 0x7F426CDB38B0>, 'PASS')\n",
            "(<Statement 'CREATE...' at 0x7F426D1A2110>, 'PASS')\n",
            "(<Statement 'INSERT...' at 0x7F426CDB3530>, 'PASS')\n",
            "(<Statement 'INSERT...' at 0x7F426CDB3290>, 'PASS')\n",
            "(<Statement 'INSERT...' at 0x7F426CDB2DC0>, 'PASS')\n",
            "(<Statement 'SELECT...' at 0x7F426CDB3610>, 'PASS')\n",
            "(<Statement 'SELECT...' at 0x7F426CDB27A0>, 'PASS')\n",
            "(<Statement 'SELECT...' at 0x7F426CDB2570>, 'PASS')\n",
            "(<Statement 'DROP T...' at 0x7F426CDB3840>, 'PASS')\n",
            "(<Statement 'DROP T...' at 0x7F426CDB2110>, 'PASS')\n",
            "(<Statement 'CREATE...' at 0x7F426CDB21F0>, 'PASS')\n",
            "(<Statement 'CREATE...' at 0x7F426CDB1C40>, 'PASS')\n",
            "(<Statement 'INSERT...' at 0x7F426CDB2500>, 'PASS')\n",
            "(<Statement 'INSERT...' at 0x7F426CDB1230>, 'PASS')\n",
            "(<Statement 'INSERT...' at 0x7F426CDB2650>, 'PASS')\n",
            "(<Statement 'INSERT...' at 0x7F426CDB2AB0>, 'PASS')\n",
            "(<Statement 'INSERT...' at 0x7F426CDB3060>, 'PASS')\n",
            "(<Statement 'INSERT...' at 0x7F426CDB2260>, 'PASS')\n",
            "(<Statement 'SELECT...' at 0x7F426CDB1850>, 'PASS')\n",
            "(<Statement 'SELECT...' at 0x7F426CDB0970>, 'PASS')\n",
            "(<Statement 'SELECT...' at 0x7F426CDB1AF0>, 'PASS')\n",
            "(<Statement 'SELECT...' at 0x7F426CDB0C10>, 'PASS')\n",
            "(<Statement 'SELECT...' at 0x7F426CDB09E0>, 'PASS')\n",
            "(<Statement 'SELECT...' at 0x7F426CDB3300>, 'PASS')\n",
            "(<Statement 'DROP T...' at 0x7F426CDB02E0>, 'PASS')\n",
            "(<Statement 'DROP T...' at 0x7F425A686260>, 'PASS')\n",
            "(<Statement 'CREATE...' at 0x7F426CDB02E0>, 'PASS')\n",
            "(<Statement 'CREATE...' at 0x7F425A6871B0>, 'PASS')\n",
            "(<Statement 'INSERT...' at 0x7F425A6853F0>, 'PASS')\n",
            "(<Statement 'INSERT...' at 0x7F425A685E70>, 'PASS')\n",
            "(<Statement 'INSERT...' at 0x7F425A6878B0>, 'PASS')\n",
            "(<Statement 'INSERT...' at 0x7F425A6854D0>, 'PASS')\n",
            "(<Statement 'INSERT...' at 0x7F425A684350>, 'PASS')\n",
            "(<Statement 'INSERT...' at 0x7F425A6876F0>, 'PASS')\n",
            "(<Statement 'SELECT...' at 0x7F425A6857E0>, 'PASS')\n",
            "(<Statement 'SELECT...' at 0x7F425A684AC0>, 'PASS')\n"
          ]
        }
      ]
    },
    {
      "cell_type": "code",
      "source": [
        "list(test_Runner.coverage())[:5]"
      ],
      "metadata": {
        "colab": {
          "base_uri": "https://localhost:8080/"
        },
        "id": "0nNfUvQOvafu",
        "outputId": "43bd04c5-7405-4c57-f5e7-6017af562c20"
      },
      "execution_count": null,
      "outputs": [
        {
          "output_type": "execute_result",
          "data": {
            "text/plain": [
              "[('group_assignment', 183),\n",
              " ('group_tzcasts', 107),\n",
              " ('post', 160),\n",
              " ('splitext', 119),\n",
              " ('group_identifier', 225)]"
            ]
          },
          "metadata": {},
          "execution_count": 51
        }
      ]
    },
    {
      "cell_type": "code",
      "source": [
        "list(test_Runner.coverage())[:30]"
      ],
      "metadata": {
        "colab": {
          "base_uri": "https://localhost:8080/"
        },
        "id": "xucAllv1zzaj",
        "outputId": "d4765d5f-ab0d-4c7d-ca4d-9df031a0856d"
      },
      "execution_count": null,
      "outputs": [
        {
          "output_type": "execute_result",
          "data": {
            "text/plain": [
              "[('group_assignment', 183),\n",
              " ('group_tzcasts', 107),\n",
              " ('post', 160),\n",
              " ('splitext', 119),\n",
              " ('group_identifier', 225),\n",
              " ('group_aliased', 330),\n",
              " ('group_functions', 360),\n",
              " ('_token_matching', 241),\n",
              " ('match', 184),\n",
              " ('from_list', 399),\n",
              " ('format', 420),\n",
              " ('group_operator', 258),\n",
              " ('post', 290),\n",
              " ('_get_stack_str', 44),\n",
              " ('group_tokens', 310),\n",
              " ('getline', 32),\n",
              " ('token_next_by', 265),\n",
              " ('lazycache', 161),\n",
              " ('post', 155),\n",
              " ('group_assignment', 196),\n",
              " ('tokenize', 155),\n",
              " ('group_identifier', 229),\n",
              " ('group_functions', 346),\n",
              " ('group_functions', 355),\n",
              " ('group_typecasts', 83),\n",
              " ('group_aliased', 334),\n",
              " ('group_as', 166),\n",
              " ('_token_matching', 245),\n",
              " ('<genexpr>', 165),\n",
              " ('_splitext', 139)]"
            ]
          },
          "metadata": {},
          "execution_count": 52
        }
      ]
    },
    {
      "cell_type": "markdown",
      "source": [
        "# Fuzzer"
      ],
      "metadata": {
        "id": "LuKz-WoOAu9X"
      }
    },
    {
      "cell_type": "code",
      "source": [
        "n = 100"
      ],
      "metadata": {
        "id": "ZbKvUyQKP43b"
      },
      "execution_count": null,
      "outputs": []
    },
    {
      "cell_type": "markdown",
      "source": [
        "## Existing method"
      ],
      "metadata": {
        "id": "zv5UDQ8QV9-D"
      }
    },
    {
      "cell_type": "code",
      "source": [
        "from fuzzingbook.MutationFuzzer import FunctionCoverageRunner"
      ],
      "metadata": {
        "id": "esF-ZT8yWThB"
      },
      "execution_count": null,
      "outputs": []
    },
    {
      "cell_type": "markdown",
      "source": [
        "### OriginGreyboxFuzzer"
      ],
      "metadata": {
        "id": "Eq84bg3yWH7q"
      }
    },
    {
      "cell_type": "code",
      "source": [
        "class OriginGreyboxFuzzer(AdvancedMutationFuzzer):\n",
        "    \"\"\"Coverage-guided mutational fuzzing.\"\"\"\n",
        "\n",
        "    def reset(self):\n",
        "        super().reset()\n",
        "        self.coverages_seen = set()\n",
        "        self.population = []  # population is filled during greybox fuzzing\n",
        "\n",
        "    def run(self, runner: FunctionCoverageRunner) -> Tuple[Any, str]:\n",
        "\n",
        "        result, outcome = super().run(runner)\n",
        "        new_coverage = frozenset(runner.coverage())\n",
        "        if new_coverage not in self.coverages_seen:\n",
        "            # We have new coverage\n",
        "            seed = Seed(self.inp)\n",
        "            seed.coverage = runner.coverage()\n",
        "            self.coverages_seen.add(new_coverage)\n",
        "            self.population.append(seed)\n",
        "\n",
        "        return (result, outcome)"
      ],
      "metadata": {
        "id": "ItWoZi5jWGkk"
      },
      "execution_count": null,
      "outputs": []
    },
    {
      "cell_type": "markdown",
      "source": [
        "### BoostedGreyboxFuzzer"
      ],
      "metadata": {
        "id": "WIJMJhYQWYU9"
      }
    },
    {
      "cell_type": "code",
      "source": [
        "import pickle   # 개체의 모든 정보에서 바이트 배열을 생성하여 개체를 직렬화\n",
        "import hashlib  # 바이트 배열에서 128비트 해시 값을 생성"
      ],
      "metadata": {
        "id": "FRmGpBCYWX4p"
      },
      "execution_count": null,
      "outputs": []
    },
    {
      "cell_type": "code",
      "source": [
        "def getPathID(coverage: Any) -> str:\n",
        "    \"\"\"Returns a unique hash for the covered statements\"\"\"\n",
        "    pickled = pickle.dumps(sorted(coverage))\n",
        "    return hashlib.md5(pickled).hexdigest()"
      ],
      "metadata": {
        "id": "AGEfg5kGWiPK"
      },
      "execution_count": null,
      "outputs": []
    },
    {
      "cell_type": "code",
      "source": [
        "class AFLFastSchedule(PowerSchedule):\n",
        "    \"\"\"Exponential power schedule as implemented in AFL\"\"\"\n",
        "\n",
        "    def __init__(self, exponent: float) -> None:\n",
        "        self.exponent = exponent\n",
        "\n",
        "    def assignEnergy(self, population: Sequence[Seed]) -> None:\n",
        "        \"\"\"Assign exponential energy inversely proportional to path frequency\"\"\"\n",
        "        for seed in population:\n",
        "            seed.energy = 1 / (self.path_frequency[getPathID(seed.coverage)] ** self.exponent)"
      ],
      "metadata": {
        "id": "llEy3JUBWjNr"
      },
      "execution_count": null,
      "outputs": []
    },
    {
      "cell_type": "code",
      "source": [
        "class BoostedGreyboxFuzzer(OriginGreyboxFuzzer):\n",
        "    def reset(self):\n",
        "        super().reset()\n",
        "        self.schedule.path_frequency = {}\n",
        "\n",
        "    def run(self, runner: FunctionCoverageRunner) -> Tuple[Any, str]:\n",
        "        result, outcome = super().run(runner)\n",
        "\n",
        "        path_id = getPathID(runner.coverage())\n",
        "        if path_id not in self.schedule.path_frequency:\n",
        "            self.schedule.path_frequency[path_id] = 1\n",
        "        else:\n",
        "            self.schedule.path_frequency[path_id] += 1\n",
        "\n",
        "        return(result, outcome)"
      ],
      "metadata": {
        "id": "-WfFXKhlWj4n"
      },
      "execution_count": null,
      "outputs": []
    },
    {
      "cell_type": "markdown",
      "source": [
        "### Compare"
      ],
      "metadata": {
        "id": "MtKMKjWUZ9zF"
      }
    },
    {
      "cell_type": "code",
      "source": [
        "# OriginGreyboxFuzzer\n",
        "Origin_Greybox_fuzzer = OriginGreyboxFuzzer([query], Mutator(), PowerSchedule())\n",
        "\n",
        "start = time.time()\n",
        "Origin_Greybox_fuzzer.runs(FunctionCoverageRunner(my_sql_parser), trials=n)\n",
        "end = time.time()\n",
        "\n",
        "Originc_run_time = end - start\n",
        "\"OriginGreyboxFuzzer : 입력 %d 을 생성하고 실행하는 데 %0.2f초가 걸렸습니다.\" % (n, Originc_run_time)"
      ],
      "metadata": {
        "colab": {
          "base_uri": "https://localhost:8080/",
          "height": 35
        },
        "id": "tqlyUX1eZ_gb",
        "outputId": "f315901c-a3a3-4fbb-b645-d52672559deb"
      },
      "execution_count": null,
      "outputs": [
        {
          "output_type": "execute_result",
          "data": {
            "text/plain": [
              "'OriginGreyboxFuzzer : 입력 100 을 생성하고 실행하는 데 62.42초가 걸렸습니다.'"
            ],
            "application/vnd.google.colaboratory.intrinsic+json": {
              "type": "string"
            }
          },
          "metadata": {},
          "execution_count": 60
        }
      ]
    },
    {
      "cell_type": "code",
      "source": [
        "_, Origin_Greybox_coverage = population_coverage(Origin_Greybox_fuzzer.inputs, my_sql_parser)"
      ],
      "metadata": {
        "id": "dnG4DsJAgvRp"
      },
      "execution_count": null,
      "outputs": []
    },
    {
      "cell_type": "code",
      "source": [
        "# BoostedGreyboxFuzzer\n",
        "Boosted_Greybox_Fuzzer = BoostedGreyboxFuzzer([query], Mutator(), AFLFastSchedule(0.5))\n",
        "\n",
        "start = time.time()\n",
        "Boosted_Greybox_Fuzzer.runs(FunctionCoverageRunner(my_sql_parser), trials=n)\n",
        "end = time.time()\n",
        "\n",
        "boosted_run_time = end - start\n",
        "\"BoostedGreyboxFuzzer : 입력 %d 을 생성하고 실행하는 데 %0.2f초가 걸렸습니다.\" % (n, boosted_run_time)"
      ],
      "metadata": {
        "colab": {
          "base_uri": "https://localhost:8080/",
          "height": 35
        },
        "id": "MRZ9Bm4kairR",
        "outputId": "be014269-7868-4689-eb20-d37c1d736c45"
      },
      "execution_count": null,
      "outputs": [
        {
          "output_type": "execute_result",
          "data": {
            "text/plain": [
              "'BoostedGreyboxFuzzer : 입력 100 을 생성하고 실행하는 데 67.87초가 걸렸습니다.'"
            ],
            "application/vnd.google.colaboratory.intrinsic+json": {
              "type": "string"
            }
          },
          "metadata": {},
          "execution_count": 62
        }
      ]
    },
    {
      "cell_type": "code",
      "source": [
        "_, Boosted_Greybox_coverage = population_coverage(Boosted_Greybox_Fuzzer.inputs, my_sql_parser)"
      ],
      "metadata": {
        "id": "6GZZvi4kgzE5"
      },
      "execution_count": null,
      "outputs": []
    },
    {
      "cell_type": "markdown",
      "source": [
        "## GreyboxFuzzer + NewRunner\n",
        "\n",
        "*   Runner : sql_parser_Coverage_Runner\n",
        "\n",
        "\n"
      ],
      "metadata": {
        "id": "Tq2gfwwFP1d7"
      }
    },
    {
      "cell_type": "markdown",
      "source": [
        "### PowerSchedule"
      ],
      "metadata": {
        "id": "R2EDilCuSF0X"
      }
    },
    {
      "cell_type": "code",
      "source": [
        "class BaseGreyboxFuzzer(AdvancedMutationFuzzer):\n",
        "    \"\"\"Coverage-guided mutational fuzzing.\"\"\"\n",
        "\n",
        "    def reset(self):\n",
        "        super().reset()\n",
        "        self.coverages_seen = set()\n",
        "        self.population = []  # population is filled during greybox fuzzing\n",
        "\n",
        "    def run(self, runner: sql_parser_Coverage_Runner) -> Tuple[Any, str]:\n",
        "\n",
        "        result, outcome = super().run(runner)\n",
        "        new_coverage = frozenset(runner.coverage())\n",
        "        if new_coverage not in self.coverages_seen:\n",
        "            # We have new coverage\n",
        "            seed = Seed(self.inp)\n",
        "            seed.coverage = runner.coverage()\n",
        "            self.coverages_seen.add(new_coverage)\n",
        "            self.population.append(seed)\n",
        "\n",
        "        return (result, outcome)"
      ],
      "metadata": {
        "id": "OzCbyRhFAyFp"
      },
      "execution_count": null,
      "outputs": []
    },
    {
      "cell_type": "code",
      "source": [
        "Base_Greybox_Cov_list = []\n",
        "time_list_Base = []\n",
        "for q in queries:\n",
        "    Base_Greybox_fuzzer = BaseGreyboxFuzzer([q], Mutator(), PowerSchedule())\n",
        "\n",
        "    start = time.time()\n",
        "    Base_Greybox_fuzzer.runs(sql_parser_Coverage_Runner(my_sql_parser), trials=n)\n",
        "    end = time.time()\n",
        "\n",
        "    _, Base_Greybox_coverage = population_coverage(Base_Greybox_fuzzer.inputs, my_sql_parser)\n",
        "\n",
        "    Base_Greybox_Cov_list += Base_Greybox_coverage\n",
        "    time_list_Base.append(end - start)"
      ],
      "metadata": {
        "id": "_pdXSjVfQHdk"
      },
      "execution_count": null,
      "outputs": []
    },
    {
      "cell_type": "code",
      "source": [
        "# 작업 시간 평균 구하기\n",
        "cnt = 0\n",
        "total_time_B = 0\n",
        "for i in time_list_Base:\n",
        "    total_time_B += i\n",
        "    cnt += 1\n",
        "\n",
        "Base_Greybox_Avg_Time = total_time_B / cnt"
      ],
      "metadata": {
        "id": "b2GAAON8QiRV"
      },
      "execution_count": null,
      "outputs": []
    },
    {
      "cell_type": "markdown",
      "source": [
        "### AFLFastSchedule"
      ],
      "metadata": {
        "id": "zaBYIZWpZvm3"
      }
    },
    {
      "cell_type": "code",
      "source": [
        "def getPathID2(coverage: Any) -> str:\n",
        "    \"\"\"Returns a unique hash for the covered statements\"\"\"\n",
        "    pickled = pickle.dumps(sorted(coverage))\n",
        "    return hashlib.md5(pickled).hexdigest()"
      ],
      "metadata": {
        "id": "VeCLNhXO6WSb"
      },
      "execution_count": null,
      "outputs": []
    },
    {
      "cell_type": "code",
      "source": [
        "class CustomSchedule(PowerSchedule):\n",
        "    \"\"\"Exponential power schedule as implemented in AFL\"\"\"\n",
        "\n",
        "    def __init__(self, exponent: float) -> None:\n",
        "        self.exponent = exponent\n",
        "\n",
        "    def assignEnergy(self, population: Sequence[Seed]) -> None:\n",
        "        \"\"\"Assign energy based on seed distance\"\"\"\n",
        "        for seed in population:\n",
        "            seed.energy = 1 / (seed.distance ** self.exponent)"
      ],
      "metadata": {
        "id": "Ghb7wfDQFYBn"
      },
      "execution_count": null,
      "outputs": []
    },
    {
      "cell_type": "code",
      "source": [
        "class BoostedGreyboxFuzzer_Ver02(BaseGreyboxFuzzer):\n",
        "    def reset(self):\n",
        "        super().reset()\n",
        "        self.schedule.path_frequency = {}\n",
        "\n",
        "    def run(self, runner: sql_parser_Coverage_Runner) -> Tuple[Any, str]:\n",
        "        result, outcome = super().run(runner)\n",
        "\n",
        "        path_id = getPathID(runner.coverage())\n",
        "        if path_id not in self.schedule.path_frequency:\n",
        "            self.schedule.path_frequency[path_id] = 1\n",
        "        else:\n",
        "            self.schedule.path_frequency[path_id] += 1\n",
        "\n",
        "        return(result, outcome)"
      ],
      "metadata": {
        "id": "97gHVi8hZxAD"
      },
      "execution_count": null,
      "outputs": []
    },
    {
      "cell_type": "code",
      "source": [
        "Boosted_Greybox_V2_Cov_list = []\n",
        "time_list = []\n",
        "for q in queries:\n",
        "    Boosted_Greybox_fuzzer_V2 = BoostedGreyboxFuzzer_Ver02([q], Mutator(), CustomSchedule(5))\n",
        "\n",
        "    start = time.time()\n",
        "    Boosted_Greybox_fuzzer_V2.runs(sql_parser_Coverage_Runner(my_sql_parser), trials=n)\n",
        "    end = time.time()\n",
        "\n",
        "    _, Boosted_Greybox_V2_coverage = population_coverage(Boosted_Greybox_fuzzer_V2.inputs, my_sql_parser)\n",
        "\n",
        "    Boosted_Greybox_V2_Cov_list += Boosted_Greybox_V2_coverage\n",
        "    time_list.append(end - start)"
      ],
      "metadata": {
        "id": "iFTmLYv1c56G"
      },
      "execution_count": null,
      "outputs": []
    },
    {
      "cell_type": "code",
      "source": [
        "# 작업 시간 평균 구하기\n",
        "cnt = 0\n",
        "total_time_Boost_V2 = 0\n",
        "for i in time_list:\n",
        "    total_time_Boost_V2 += i\n",
        "    cnt += 1\n",
        "\n",
        "Boost_Greybox_V2_Avg_Time = total_time_Boost_V2 / cnt"
      ],
      "metadata": {
        "id": "Hh9EIhKed4nY"
      },
      "execution_count": null,
      "outputs": []
    },
    {
      "cell_type": "markdown",
      "source": [
        "#### 실패"
      ],
      "metadata": {
        "id": "ny12eNkmsAz8"
      }
    },
    {
      "cell_type": "code",
      "source": [
        "class AFLFastSchedule2(PowerSchedule):\n",
        "    \"\"\"Exponential power schedule as implemented in AFL\"\"\"\n",
        "\n",
        "    def __init__(self, exponent: float) -> None:\n",
        "        self.exponent = exponent\n",
        "\n",
        "    def assignEnergy(self, population: Sequence[Seed]) -> None:\n",
        "        \"\"\"Assign exponential energy inversely proportional to path frequency\"\"\"\n",
        "        for seed in population:\n",
        "            seed.energy = 5 / (self.path_frequency[getPathID2(seed.coverage)] ** self.exponent)"
      ],
      "metadata": {
        "id": "oYQKrayHoV9U"
      },
      "execution_count": null,
      "outputs": []
    },
    {
      "cell_type": "code",
      "source": [
        "class CustomSchedule1(AFLFastSchedule):\n",
        "    \"\"\"Custom power schedule\"\"\"\n",
        "\n",
        "    def assignEnergy(self, population: Sequence[Seed]) -> None:\n",
        "        \"\"\"Assign custom energy to seeds\"\"\"\n",
        "        max_frequency = max(self.path_frequency[getPathID2(seed.coverage)] for seed in population)\n",
        "\n",
        "        for seed in population:\n",
        "            path_id = getPathID2(seed.coverage)\n",
        "            path_frequency = self.path_frequency[path_id]\n",
        "            # Calculate energy based on a custom criterion\n",
        "            energy = max_frequency / (path_frequency + 5)  # Modify this line with your custom calculation\n",
        "            seed.energy = energy"
      ],
      "metadata": {
        "id": "yJkXJRa49oqJ"
      },
      "execution_count": null,
      "outputs": []
    },
    {
      "cell_type": "code",
      "source": [
        "class CustomSchedul2(PowerSchedule):\n",
        "    \"\"\"Exponential power schedule as implemented in AFL\"\"\"\n",
        "\n",
        "    def __init__(self, exponent: float) -> None:\n",
        "        super().__init__()\n",
        "        self.exponent = exponent\n",
        "\n",
        "    def assignEnergy(self, population: Sequence[Seed]) -> None:\n",
        "        \"\"\"Assign exponential energy inversely proportional to path frequency\"\"\"\n",
        "        path_frequencies = self.calculatePathFrequencies(population)\n",
        "        for seed in population:\n",
        "            path_id = getPathID(seed.coverage)\n",
        "            seed.energy = 1 / (path_frequencies[path_id] ** self.exponent)\n",
        "\n",
        "    def calculatePathFrequencies(self, population: Sequence[Seed]) -> Dict[str, int]:\n",
        "        \"\"\"Calculate path frequencies\"\"\"\n",
        "        path_frequencies = {}\n",
        "        for seed in population:\n",
        "            path_id = getPathID(seed.coverage)\n",
        "            path_frequencies[path_id] = path_frequencies.get(path_id, 0) + 1\n",
        "        return path_frequencies"
      ],
      "metadata": {
        "id": "TqSEO6w1O80a"
      },
      "execution_count": null,
      "outputs": []
    },
    {
      "cell_type": "markdown",
      "source": [
        "### Compare"
      ],
      "metadata": {
        "id": "C58-UAEAeZHY"
      }
    },
    {
      "cell_type": "markdown",
      "source": [
        "* BaseGreyboxFuzzer"
      ],
      "metadata": {
        "id": "oz_YxAimedf_"
      }
    },
    {
      "cell_type": "code",
      "source": [
        "\"BaseGreyboxFuzzer : %d개의 query문을 입력 %d 을 생성하고 실행하는 데 전체시간 %0.2f초가 걸렸습니다.\" % (len(queries), n, total_time_B)"
      ],
      "metadata": {
        "id": "l2kA-mpJeasw",
        "colab": {
          "base_uri": "https://localhost:8080/",
          "height": 35
        },
        "outputId": "278ecaff-a4db-44fd-e909-035df556165f"
      },
      "execution_count": null,
      "outputs": [
        {
          "output_type": "execute_result",
          "data": {
            "text/plain": [
              "'BaseGreyboxFuzzer : 36개의 query문을 입력 100 을 생성하고 실행하는 데 전체시간 107.80초가 걸렸습니다.'"
            ],
            "application/vnd.google.colaboratory.intrinsic+json": {
              "type": "string"
            }
          },
          "metadata": {},
          "execution_count": 72
        }
      ]
    },
    {
      "cell_type": "code",
      "source": [
        "\"BaseGreyboxFuzzer : %d개의 query문을 입력 %d 을 생성하고 실행하는 데 평균 %0.2f초가 걸렸습니다.\" % (len(queries), n, Base_Greybox_Avg_Time)"
      ],
      "metadata": {
        "id": "WI7F8D0EeiUu",
        "colab": {
          "base_uri": "https://localhost:8080/",
          "height": 35
        },
        "outputId": "d2188d27-bf0a-439e-e2b0-a8f8e62f27f6"
      },
      "execution_count": null,
      "outputs": [
        {
          "output_type": "execute_result",
          "data": {
            "text/plain": [
              "'BaseGreyboxFuzzer : 36개의 query문을 입력 100 을 생성하고 실행하는 데 평균 2.99초가 걸렸습니다.'"
            ],
            "application/vnd.google.colaboratory.intrinsic+json": {
              "type": "string"
            }
          },
          "metadata": {},
          "execution_count": 73
        }
      ]
    },
    {
      "cell_type": "markdown",
      "source": [
        "* BoostedGreyboxFuzzer_Ver02"
      ],
      "metadata": {
        "id": "4nU7iTTKet3B"
      }
    },
    {
      "cell_type": "code",
      "source": [
        "\"BoostedGreyboxFuzzer_Ver02 : %d개의 query문을 입력 %d 을 생성하고 실행하는 데 전체시간 %0.2f초가 걸렸습니다.\" % (len(queries), n, total_time_Boost_V2)"
      ],
      "metadata": {
        "id": "PUC4JHzGexnI",
        "colab": {
          "base_uri": "https://localhost:8080/",
          "height": 35
        },
        "outputId": "5f1203d0-900e-4bdf-ee5f-17868f7c79ae"
      },
      "execution_count": null,
      "outputs": [
        {
          "output_type": "execute_result",
          "data": {
            "text/plain": [
              "'BoostedGreyboxFuzzer_Ver02 : 36개의 query문을 입력 100 을 생성하고 실행하는 데 전체시간 110.57초가 걸렸습니다.'"
            ],
            "application/vnd.google.colaboratory.intrinsic+json": {
              "type": "string"
            }
          },
          "metadata": {},
          "execution_count": 74
        }
      ]
    },
    {
      "cell_type": "code",
      "source": [
        "\"BoostedGreyboxFuzzer_Ver02 : %d개의 query문을 입력 %d 을 생성하고 실행하는 데 평균 %0.2f초가 걸렸습니다.\" % (len(queries), n, Boost_Greybox_V2_Avg_Time)"
      ],
      "metadata": {
        "id": "Sk2Iq7JTfb-D",
        "colab": {
          "base_uri": "https://localhost:8080/",
          "height": 35
        },
        "outputId": "b22ea6ae-ce34-4ecb-b53e-b81aff985281"
      },
      "execution_count": null,
      "outputs": [
        {
          "output_type": "execute_result",
          "data": {
            "text/plain": [
              "'BoostedGreyboxFuzzer_Ver02 : 36개의 query문을 입력 100 을 생성하고 실행하는 데 평균 3.07초가 걸렸습니다.'"
            ],
            "application/vnd.google.colaboratory.intrinsic+json": {
              "type": "string"
            }
          },
          "metadata": {},
          "execution_count": 75
        }
      ]
    },
    {
      "cell_type": "markdown",
      "source": [
        "## Visualization"
      ],
      "metadata": {
        "id": "NflvGpD9exF6"
      }
    },
    {
      "cell_type": "markdown",
      "source": [
        "* Run Time"
      ],
      "metadata": {
        "id": "lBCdP5ize4rm"
      }
    },
    {
      "cell_type": "code",
      "source": [
        "x = np.arange(6)\n",
        "fuzzer_nm = ['Origin', 'Boosted',\n",
        "             'GreyBox_V2_total', 'Boosted_V2_total',\n",
        "             'GreyBox_V2_Avg' ,'Boosted_V2_Avg']\n",
        "run_time = [Originc_run_time, boosted_run_time,\n",
        "            total_time_B, total_time_Boost_V2,\n",
        "            Base_Greybox_Avg_Time, Boost_Greybox_V2_Avg_Time]\n",
        "colors = ['r', 'g', 'b', 'c', 'm', 'y']\n",
        "plt.figure(figsize=(15, 5))\n",
        "plt.bar(x, run_time, color=colors)\n",
        "plt.xticks(x, fuzzer_nm)\n",
        "plt.title(\"Fuzzer's Runtime About Input \"+str(n))\n",
        "plt.xlabel('Fuzzer Name', labelpad=15)\n",
        "plt.ylabel('Run-Time (s)', labelpad=20)\n",
        "\n",
        "plt.show()"
      ],
      "metadata": {
        "colab": {
          "base_uri": "https://localhost:8080/",
          "height": 503
        },
        "id": "ydsVcCS8e25W",
        "outputId": "f57a73cd-7d16-4542-b7b0-68664a62210f"
      },
      "execution_count": null,
      "outputs": [
        {
          "output_type": "display_data",
          "data": {
            "text/plain": [
              "<Figure size 1500x500 with 1 Axes>"
            ],
            "image/png": "[encoded data removed]"
          },
          "metadata": {}
        }
      ]
    },
    {
      "cell_type": "code",
      "source": [
        "line_grey_V2, = plt.plot(Base_Greybox_Cov_list, label=\"GreyboxFuzzer_V2\")\n",
        "line_boost_V2, = plt.plot(Boosted_Greybox_V2_Cov_list, label=\"BoostedGreyboxFuzzer_V2\")\n",
        "\n",
        "plt.legend(handles=[line_grey_V2, line_boost_V2])\n",
        "\n",
        "plt.title('Coverage over time')\n",
        "plt.xlabel('# of inputs')\n",
        "plt.ylabel('lines covered')\n",
        "\n",
        "plt.legend(loc='lower right')\n",
        "\n",
        "plt.show()"
      ],
      "metadata": {
        "colab": {
          "base_uri": "https://localhost:8080/",
          "height": 472
        },
        "id": "40b2dMxmhTGy",
        "outputId": "980619c2-8903-44fd-b280-e6e8698f3883"
      },
      "execution_count": null,
      "outputs": [
        {
          "output_type": "display_data",
          "data": {
            "text/plain": [
              "<Figure size 640x480 with 1 Axes>"
            ],
            "image/png": "[encoded data removed]"
          },
          "metadata": {}
        }
      ]
    },
    {
      "cell_type": "code",
      "source": [
        "line_grey_V2, = plt.plot(sorted(Base_Greybox_Cov_list), label=\"GreyboxFuzzer_V2\")\n",
        "line_boost_V2, = plt.plot(sorted(Boosted_Greybox_V2_Cov_list), label=\"BoostedGreyboxFuzzer_V2\")\n",
        "\n",
        "plt.legend(handles=[line_grey_V2, line_boost_V2])\n",
        "\n",
        "plt.title('Coverage over time')\n",
        "plt.xlabel('# of inputs')\n",
        "plt.ylabel('lines covered')\n",
        "\n",
        "plt.legend(loc='lower right')\n",
        "\n",
        "plt.show()"
      ],
      "metadata": {
        "colab": {
          "base_uri": "https://localhost:8080/",
          "height": 472
        },
        "id": "fut9Nt_riT_B",
        "outputId": "d556f367-90af-4b98-8a36-70987753c812"
      },
      "execution_count": null,
      "outputs": [
        {
          "output_type": "display_data",
          "data": {
            "text/plain": [
              "<Figure size 640x480 with 1 Axes>"
            ],
            "image/png": "[encoded data removed]"
          },
          "metadata": {}
        }
      ]
    },
    {
      "cell_type": "code",
      "source": [
        "line_grey_V2, = plt.plot(Base_Greybox_coverage, label=\"GreyboxFuzzer_V2\")\n",
        "line_boost_V2, = plt.plot(Boosted_Greybox_V2_coverage, label=\"BoostedGreyboxFuzzer_V2\")\n",
        "\n",
        "line_grey, = plt.plot(Origin_Greybox_coverage, label=\"OriginGreyboxFuzzer\")\n",
        "line_boost, = plt.plot(Boosted_Greybox_coverage, label=\"Boosted Greybox Fuzzer\")\n",
        "\n",
        "plt.legend(handles=[line_boost, line_grey, line_grey_V2, line_boost_V2])\n",
        "plt.title('Coverage over time')\n",
        "plt.xlabel('# of inputs')\n",
        "plt.ylabel('lines covered');\n",
        "plt.legend(loc='lower right')\n",
        "\n",
        "plt.show()"
      ],
      "metadata": {
        "colab": {
          "base_uri": "https://localhost:8080/",
          "height": 472
        },
        "id": "gYSH5y5KgmHJ",
        "outputId": "9ee45a04-4b40-4cf8-d031-caf775b92cf7"
      },
      "execution_count": null,
      "outputs": [
        {
          "output_type": "display_data",
          "data": {
            "text/plain": [
              "<Figure size 640x480 with 1 Axes>"
            ],
            "image/png": "[encoded data removed]"
          },
          "metadata": {}
        }
      ]
    },
    {
      "cell_type": "markdown",
      "source": [
        "# 추가"
      ],
      "metadata": {
        "id": "MAjKkRsbfaeT"
      }
    },
    {
      "cell_type": "code",
      "source": [
        "with Coverage() as cov:\n",
        "    my_sql_parser(\"SELECT * FROM table;\")"
      ],
      "metadata": {
        "id": "s12NeuTVfdSo"
      },
      "execution_count": 80,
      "outputs": []
    },
    {
      "cell_type": "code",
      "source": [
        "print(cov.coverage())"
      ],
      "metadata": {
        "colab": {
          "base_uri": "https://localhost:8080/"
        },
        "id": "8THZTdScq6Ou",
        "outputId": "bc8ad70c-a338-43ff-a4fe-3b96dc90a62b"
      },
      "execution_count": 87,
      "outputs": [
        {
          "output_type": "stream",
          "name": "stdout",
          "text": [
            "{('group_assignment', 183), ('group_tzcasts', 107), ('splitext', 119), ('group_identifier', 225), ('group_aliased', 330), ('match', 184), ('_token_matching', 241), ('from_list', 399), ('format', 420), ('group_operator', 258), ('_get_stack_str', 44), ('getline', 32), ('token_next_by', 265), ('lazycache', 161), ('group_assignment', 196), ('tokenize', 155), ('group_functions', 346), ('group_functions', 355), ('group_typecasts', 83), ('group_as', 166), ('_token_matching', 245), ('<genexpr>', 165), ('_splitext', 139), ('get_default_instance', 50), ('_change_splitlevel', 33), ('group_where', 312), ('from_list', 403), ('checkcache', 64), ('_internal_set_trace', 48), ('_get_stack_str', 39), ('extract', 383), ('flatten', 216), ('line', 306), ('_internal_set_trace', 57), ('format', 433), ('is_keyword', 96), ('group_tzcasts', 97), ('group_functions', 350), ('_token_matching', 240), ('group_typecasts', 87), ('_splitext', 134), ('match', 259), ('process', 96), ('from_list', 398), ('checkcache', 59), ('format', 419), ('checkcache', 68), ('_get_stack_str', 34), ('extract', 378), ('_internal_set_trace', 52), ('getline', 31), ('match', 142), ('lazycache', 160), ('group_functions', 345), ('group_arrays', 240), ('_token_matching', 235), ('group_arrays', 249), ('_splitext', 129), ('_token_matching', 244), ('group_typed_literal', 131), ('_splitext', 138), ('extract', 364), ('checkcache', 63), ('checkcache', 72), ('_get_stack_str', 38), ('extract', 382), ('print_list', 25), ('_group', 455), ('_group', 464), ('group_arrays', 235), ('group_functions', 349), ('group_typecasts', 77), ('group_typecasts', 86), ('_splitext', 133), ('align_comments', 377), ('group_typed_literal', 135), ('get_tokens', 140), ('group', 416), ('group', 425), ('checkcache', 58), ('get_sublists', 220), ('extract', 377), ('checkcache', 76), ('match', 105), ('_reset', 24), ('group_tzcasts', 91), ('getline', 30), ('_group', 441), ('group_order', 365), ('__init__', 55), ('group_functions', 344), ('token_next', 300), ('_splitext', 128), ('walk_stack', 317), ('_splitext', 137), ('process', 81), ('get_tokens', 144), ('group', 411), ('group', 420), ('<listcomp>', 160), ('process', 99), ('group', 429), ('group_comparison', 207), ('extract', 363), ('extract', 372), ('extract', 381), ('match', 100), ('group_values', 389), ('imt', 91), ('imt', 100), ('_reset', 19), ('match', 118), ('is_keyword', 97), ('print_list', 24), ('extract_stack', 227), ('_group', 445), ('group_identifier_list', 283), ('_group', 454), ('group_identifier_list', 292), ('group_arrays', 234), ('group_arrays', 243), ('group_typed_literal', 116), ('token_next', 295), ('group_typed_literal', 125), ('align_comments', 376), ('group_typed_literal', 134), ('group', 406), ('get_tokens', 139), ('group', 415), ('group', 424), ('__init__', 162), ('wrapped_f', 71), ('group_comparison', 202), ('extract', 358), ('extract', 367), ('group_comparison', 220), ('extract', 376), ('getlines', 43), ('run', 35), ('match', 104), ('group_values', 393), ('run', 44), ('imt', 95), ('_reset', 23), ('group_identifier_list', 278), ('_group', 449), ('__init__', 54), ('get_tokens', 134), ('__contains__', 19), ('group', 410), ('get_tokens', 143), ('group_for', 69), ('group', 419), ('group_operator', 272), ('group_if', 65), ('extract', 362), ('imt', 90), ('imt', 99), ('valid', 264), ('print_stack', 204), ('parsestream', 41), ('_group', 444), ('match_to_extend', 120), ('group_begin', 73), ('group', 405), ('get_tokens', 138), ('group', 414), ('_change_splitlevel', 65), ('group_operator', 267), ('format', 447), ('__init__', 161), ('group_comparison', 201), ('extract', 357), ('check_linecache_ipython', 185), ('getlines', 42), ('run', 34), ('_group_matching', 24), ('__init__', 17), ('splitext', 123), ('group_period', 149), ('__init__', 273), ('group_identifier_list', 277), ('group_identifier_list', 286), ('get_tokens', 133), ('format', 442), ('_change_splitlevel', 69), ('group_operator', 271), ('wrapped_f', 74), ('_group_matching', 19), ('run', 38), ('imt', 89), ('_group_matching', 28), ('_group_matching', 37), ('valid', 263), ('group_period', 144), ('splitext', 118), ('group_period', 153), ('parsestream', 40), ('group_aliased', 329), ('group_identifier_list', 281), ('group_as', 179), ('format', 437), ('_change_splitlevel', 73), ('__init__', 160), ('_internal_set_trace', 70), ('getlines', 41), ('group_assignment', 186), ('group_assignment', 195), ('<genexpr>', 97), ('group_identifier', 228), ('<genexpr>', 106), ('__init__', 272), ('group_aliased', 333), ('get_tokens', 114), ('_change_splitlevel', 41), ('format', 423), ('_change_splitlevel', 50), ('format', 432), ('group_operator', 261), ('format', 441), ('_internal_set_trace', 65), ('is_keyword', 95), ('lazycache', 164), ('__init__', 276), ('_token_matching', 239), ('group_as', 169), ('from_list', 397), ('get_default_instance', 53), ('_change_splitlevel', 36), ('format', 418), ('_change_splitlevel', 45), ('<lambda>', 266), ('_change_splitlevel', 54), ('group_operator', 256), ('_internal_set_trace', 51), ('format', 436), ('_get_stack_str', 42), ('my_sql_parser', 3), ('_group_matching', 22), ('group_identifier', 227), ('matcher', 299), ('group_aliased', 332), ('_token_matching', 243), ('_change_splitlevel', 31), ('__iter__', 172), ('format', 422), ('checkcache', 71), ('line', 304), ('_internal_set_trace', 64), ('is_keyword', 94), ('group_tzcasts', 104), ('group_assignment', 189), ('enable_grouping', 23), ('group_functions', 348), ('_token_matching', 229), ('_token_matching', 247), ('from_list', 396), ('_change_splitlevel', 35), ('process', 103), ('format', 417), ('format', 426), ('get_sublists', 219), ('match', 284), ('_internal_set_trace', 50), ('_get_stack_str', 41), ('my_sql_parser', 2), ('group_case', 61), ('group_functions', 343), ('group_functions', 352), ('_token_matching', 233), ('group_typecasts', 80), ('_token_matching', 242), ('_splitext', 136), ('process', 89), ('group', 428), ('process', 107), ('group_comparison', 215), ('flatten', 213), ('group_values', 388), ('line', 303), ('match', 117), ('group_tzcasts', 94), ('__init__', 58), ('group_functions', 356), ('match', 238), ('process', 84), ('process', 102), ('checkcache', 56), ('extract', 366), ('checkcache', 65), ('group_comparison', 219), ('extract', 375), ('_get_stack_str', 40), ('extract', 384), ('line', 307), ('_group', 448), ('__init__', 53), ('parse', 30), ('group_functions', 342), ('group_arrays', 237), ('_token_matching', 232), ('group_arrays', 246), ('group_typed_literal', 119), ('group_typed_literal', 128), ('walk_stack', 315), ('group_typed_literal', 137), ('group', 409), ('group', 418), ('extract', 352), ('process', 106), ('extract', 370), ('checkcache', 69), ('extract', 379), ('flatten', 212), ('group_values', 387), ('match', 107), ('print_list', 22), ('group_period', 162), ('extract_stack', 225), ('_group', 443), ('__init__', 57), ('token_next', 293), ('group_arrays', 250), ('group', 404), ('get_tokens', 137), ('group', 413), ('group', 422), ('group_comparison', 200), ('extract', 356), ('__str__', 165), ('extract', 365), ('group_comparison', 218), ('match', 102), ('imt', 93), ('imt', 102), ('_reset', 21), ('match', 120), ('extract_stack', 229), ('__init__', 52), ('_group', 456), ('group_identifier_list', 294), ('group_brackets', 53), ('match', 205), ('token_next', 297), ('group', 399), ('get_tokens', 132), ('group_parenthesis', 57), ('group_typed_literal', 136), ('get_tokens', 141), ('group', 417), ('group', 426), ('_change_splitlevel', 77), ('group_comparison', 204), ('check_linecache_ipython', 188), ('extract', 369), ('run', 28), ('group_values', 386), ('imt', 97), ('valid', 262), ('__init__', 20), ('_reset', 25), ('_group', 442), ('group_identifier_list', 280), ('group_order', 366), ('_group', 451), ('__init__', 56), ('group_identifier_list', 289), ('get_tokens', 118), ('group_typed_literal', 122), ('walk_stack', 318), ('group', 403), ('get_tokens', 136), ('group', 412), ('group', 421), ('__init__', 159), ('format', 454), ('match', 92), ('getlines', 40), ('match', 101), ('run', 41), ('__init__', 15), ('_reset', 20), ('_group_matching', 40), ('print_stack', 206), ('__init__', 271), ('extract_stack', 228), ('__init__', 51), ('group_identifier_list', 293), ('group', 398), ('get_tokens', 131), ('group', 407), ('format', 440), ('match', 78), ('run', 36), ('__init__', 19), ('splitext', 125), ('consume', 107), ('group_identifier_list', 279), ('<genexpr>', 118), ('get_tokens', 117), ('group_comments', 300), ('group', 402), ('group_operator', 255), ('format', 435), ('format', 444), ('group_operator', 273), ('_internal_set_trace', 68), ('_internal_set_trace', 77), ('__instancecheck__', 119), ('run', 31), ('_group_matching', 21), ('_group_matching', 30), ('valid', 265), ('match', 167), ('matcher', 298), ('__init__', 270), ('parsestream', 42), ('group_as', 172), ('format', 421), ('format', 439), ('format', 448), ('run', 26), ('token_next_by', 266), ('__init__', 18), ('group_period', 141), ('splitext', 124), ('<genexpr>', 99), ('__init__', 274), ('_token_matching', 246), ('group_as', 176), ('group_where', 313), ('group_comments', 299), ('group_operator', 254), ('_internal_set_trace', 49), ('format', 434), ('_internal_set_trace', 58), ('format', 443), ('_internal_set_trace', 76), ('_group_matching', 20)}\n"
          ]
        }
      ]
    }
  ]
}