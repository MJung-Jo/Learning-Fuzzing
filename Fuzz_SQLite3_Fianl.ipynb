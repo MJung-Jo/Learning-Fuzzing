{
  "nbformat": 4,
  "nbformat_minor": 0,
  "metadata": {
    "colab": {
      "provenance": [],
      "toc_visible": true,
      "collapsed_sections": [
        "6JlstPzzu2Ji",
        "MRX5V1p9vOQ7",
        "YQxvGWv3vihY"
      ],
      "authorship_tag": "ABX9TyPW2APWIxXCn9cqDbO97wKX",
      "include_colab_link": true
    },
    "kernelspec": {
      "name": "python3",
      "display_name": "Python 3"
    },
    "language_info": {
      "name": "python"
    }
  },
  "cells": [
    {
      "cell_type": "markdown",
      "metadata": {
        "id": "view-in-github",
        "colab_type": "text"
      },
      "source": [
        "<a href=\"https://colab.research.google.com/github/MJung-Jo/Learning-Fuzzing/blob/main/Fuzz_SQLite3_Fianl.ipynb\" target=\"_parent\"><img src=\"https://colab.research.google.com/assets/colab-badge.svg\" alt=\"Open In Colab\"/></a>"
      ]
    },
    {
      "cell_type": "markdown",
      "source": [
        "# Get SQLCode From WebSite"
      ],
      "metadata": {
        "id": "n706HrvGtxFo"
      }
    },
    {
      "cell_type": "markdown",
      "source": [
        "### Extract only the values\n",
        "\n",
        "* Extract only the values inside the `<code></code>` tags from the website\n",
        "\n",
        "* 웹사이트에서 `<code></code>`태그 안의 값만 추출"
      ],
      "metadata": {
        "id": "K496iwvhuShv"
      }
    },
    {
      "cell_type": "code",
      "source": [
        "import requests\n",
        "from bs4 import BeautifulSoup"
      ],
      "metadata": {
        "id": "eCwx8LQAGCF3"
      },
      "execution_count": null,
      "outputs": []
    },
    {
      "cell_type": "code",
      "source": [
        "url = \"https://www.sqlite.org/src/file?name=test/fts3e.test&ci=eddc05e7bb31fae7\""
      ],
      "metadata": {
        "id": "fPGev8NCt6Hp"
      },
      "execution_count": null,
      "outputs": []
    },
    {
      "cell_type": "code",
      "source": [
        "response = requests.get(url)\n",
        "html = response.text\n",
        "\n",
        "# HTML 파싱\n",
        "soup = BeautifulSoup(html, 'html.parser')\n",
        "\n",
        "# <code> 태그 내용 추출\n",
        "code_tag = soup.find('code')\n",
        "code_content = code_tag.get_text()\n",
        "\n",
        "print(code_content)"
      ],
      "metadata": {
        "colab": {
          "base_uri": "https://localhost:8080/"
        },
        "id": "wlFyOx2Tt7gG",
        "outputId": "357e9881-f8c2-44ad-d770-a73ede4ff373"
      },
      "execution_count": null,
      "outputs": [
        {
          "output_type": "stream",
          "name": "stdout",
          "text": [
            "# 2008 July 29\n",
            "#\n",
            "# The author disclaims copyright to this source code.  In place of\n",
            "# a legal notice, here is a blessing:\n",
            "#\n",
            "#    May you do good and not evil.\n",
            "#    May you find forgiveness for yourself and forgive others.\n",
            "#    May you share freely, never taking more than you give.\n",
            "#\n",
            "#*************************************************************************\n",
            "# These tests exercise the various types of fts3 cursors.\n",
            "#\n",
            "# $Id: fts3e.test,v 1.1 2008/07/29 20:24:46 shess Exp $\n",
            "#\n",
            "\n",
            "set testdir [file dirname $argv0]\n",
            "source $testdir/tester.tcl\n",
            "\n",
            "# If SQLITE_ENABLE_FTS3 is not defined, omit this file.\n",
            "ifcapable !fts3 {\n",
            "  finish_test\n",
            "  return\n",
            "}\n",
            "\n",
            "#*************************************************************************\n",
            "# Test table scan (QUERY_GENERIC).  This kind of query happens for\n",
            "# queries with no WHERE clause, or for WHERE clauses which cannot be\n",
            "# satisfied by an index.\n",
            "db eval {\n",
            "  DROP TABLE IF EXISTS t1;\n",
            "  CREATE VIRTUAL TABLE t1 USING fts3(c);\n",
            "  INSERT INTO t1 (docid, c) VALUES (1, 'This is a test');\n",
            "  INSERT INTO t1 (docid, c) VALUES (2, 'That was a test');\n",
            "  INSERT INTO t1 (docid, c) VALUES (3, 'This is a test');\n",
            "}\n",
            "\n",
            "do_test fts3e-1.1 {\n",
            "  execsql {\n",
            "    SELECT docid FROM t1 ORDER BY docid;\n",
            "  }\n",
            "} {1 2 3}\n",
            "\n",
            "do_test fts3e-1.2 {\n",
            "  execsql {\n",
            "    SELECT docid FROM t1 WHERE c LIKE '%test' ORDER BY docid;\n",
            "  }\n",
            "} {1 2 3}\n",
            "\n",
            "do_test fts3e-1.3 {\n",
            "  execsql {\n",
            "    SELECT docid FROM t1 WHERE c LIKE 'That%' ORDER BY docid;\n",
            "  }\n",
            "} {2}\n",
            "\n",
            "#*************************************************************************\n",
            "# Test lookup by docid (QUERY_DOCID).  This kind of query happens for\n",
            "# queries which select by the docid/rowid implicit index.\n",
            "db eval {\n",
            "  DROP TABLE IF EXISTS t1;\n",
            "  DROP TABLE IF EXISTS t2;\n",
            "  CREATE VIRTUAL TABLE t1 USING fts3(c);\n",
            "  CREATE TABLE t2(id INTEGER PRIMARY KEY AUTOINCREMENT, weight INTEGER UNIQUE);\n",
            "  INSERT INTO t2 VALUES (null, 10);\n",
            "  INSERT INTO t1 (docid, c) VALUES (last_insert_rowid(), 'This is a test');\n",
            "  INSERT INTO t2 VALUES (null, 5);\n",
            "  INSERT INTO t1 (docid, c) VALUES (last_insert_rowid(), 'That was a test');\n",
            "  INSERT INTO t2 VALUES (null, 20);\n",
            "  INSERT INTO t1 (docid, c) VALUES (last_insert_rowid(), 'This is a test');\n",
            "}\n",
            "\n",
            "# TODO(shess): This actually is doing QUERY_GENERIC?  I'd have\n",
            "# expected QUERY_DOCID in this case, as for a very large table the\n",
            "# full scan is less efficient.\n",
            "do_test fts3e-2.1 {\n",
            "  execsql {\n",
            "    SELECT docid FROM t1 WHERE docid in (1, 2, 10);\n",
            "    SELECT rowid FROM t1 WHERE rowid in (1, 2, 10);\n",
            "  }\n",
            "} {1 2 1 2}\n",
            "\n",
            "do_test fts3e-2.2 {\n",
            "  execsql {\n",
            "    SELECT docid, weight FROM t1, t2 WHERE t2.id = t1.docid ORDER BY weight;\n",
            "    SELECT t1.rowid, weight FROM t1, t2 WHERE t2.id = t1.rowid ORDER BY weight;\n",
            "  }\n",
            "} {2 5 1 10 3 20 2 5 1 10 3 20}\n",
            "\n",
            "do_test fts3e-2.3 {\n",
            "  execsql {\n",
            "    SELECT docid, weight FROM t1, t2\n",
            "           WHERE t2.weight>5 AND t2.id = t1.docid ORDER BY weight;\n",
            "    SELECT t1.rowid, weight FROM t1, t2\n",
            "           WHERE t2.weight>5 AND t2.id = t1.rowid ORDER BY weight;\n",
            "  }\n",
            "} {1 10 3 20 1 10 3 20}\n",
            "\n",
            "#*************************************************************************\n",
            "# Test lookup by MATCH (QUERY_FULLTEXT).  This is the fulltext index.\n",
            "db eval {\n",
            "  DROP TABLE IF EXISTS t1;\n",
            "  DROP TABLE IF EXISTS t2;\n",
            "  CREATE VIRTUAL TABLE t1 USING fts3(c);\n",
            "  CREATE TABLE t2(id INTEGER PRIMARY KEY AUTOINCREMENT, weight INTEGER UNIQUE);\n",
            "  INSERT INTO t2 VALUES (null, 10);\n",
            "  INSERT INTO t1 (docid, c) VALUES (last_insert_rowid(), 'This is a test');\n",
            "  INSERT INTO t2 VALUES (null, 5);\n",
            "  INSERT INTO t1 (docid, c) VALUES (last_insert_rowid(), 'That was a test');\n",
            "  INSERT INTO t2 VALUES (null, 20);\n",
            "  INSERT INTO t1 (docid, c) VALUES (last_insert_rowid(), 'This is a test');\n",
            "}\n",
            "\n",
            "do_test fts3e-3.1 {\n",
            "  execsql {\n",
            "    SELECT docid FROM t1 WHERE t1 MATCH 'this' ORDER BY docid;\n",
            "  }\n",
            "} {1 3}\n",
            "\n",
            "do_test fts3e-3.2 {\n",
            "  execsql {\n",
            "    SELECT docid, weight FROM t1, t2\n",
            "     WHERE t1 MATCH 'this' AND t1.docid = t2.id ORDER BY weight;\n",
            "  }\n",
            "} {1 10 3 20}\n",
            "\n",
            "finish_test\n",
            "\n"
          ]
        }
      ]
    },
    {
      "cell_type": "markdown",
      "source": [
        "### Extract only the code\n",
        "\n",
        "* Extract only the code corresponding to the patterns\n",
        "\n",
        "* 패턴에 해당하는 코드만 추출"
      ],
      "metadata": {
        "id": "R-thGbXxuQPB"
      }
    },
    {
      "cell_type": "code",
      "source": [
        "import re"
      ],
      "metadata": {
        "id": "Lofmxx4Nt_1A"
      },
      "execution_count": null,
      "outputs": []
    },
    {
      "cell_type": "code",
      "source": [
        "'''patterns에 해당되는 코드만 추출'''\n",
        "# 아래 패턴에 해당하는 문자열만 가지고 오기\n",
        "patterns = [\n",
        "    r\"SELECT.*?;\",\n",
        "    r\"INSERT INTO.*?;\",\n",
        "    r\"CREATE.*?;\",\n",
        "    r\"DROP.*?;\",\n",
        "]\n",
        "\n",
        "# 패턴에 대한 위치 정보 가져오기\n",
        "queries = []\n",
        "for pattern in patterns:\n",
        "    queries.extend(re.finditer(pattern, code_content, re.DOTALL))\n",
        "\n",
        "# 위치 정보를 기준으로 정렬\n",
        "queries.sort(key=lambda x: x.start())\n",
        "\n",
        "# TEST 추출된 문장 출력\n",
        "'''\n",
        "## list\n",
        "for match in queries:\n",
        "    print(match.group())\n",
        "'''\n",
        "## string\n",
        "query = \"\"\n",
        "for match in queries:\n",
        "    query = query + match.group() + '\\n'\n",
        "\n",
        "print(query)"
      ],
      "metadata": {
        "colab": {
          "base_uri": "https://localhost:8080/"
        },
        "id": "KXwEjS-ruAil",
        "outputId": "11f57766-01a9-4cff-a375-b2dd1e89b724"
      },
      "execution_count": null,
      "outputs": [
        {
          "output_type": "stream",
          "name": "stdout",
          "text": [
            "DROP TABLE IF EXISTS t1;\n",
            "CREATE VIRTUAL TABLE t1 USING fts3(c);\n",
            "INSERT INTO t1 (docid, c) VALUES (1, 'This is a test');\n",
            "INSERT INTO t1 (docid, c) VALUES (2, 'That was a test');\n",
            "INSERT INTO t1 (docid, c) VALUES (3, 'This is a test');\n",
            "SELECT docid FROM t1 ORDER BY docid;\n",
            "SELECT docid FROM t1 WHERE c LIKE '%test' ORDER BY docid;\n",
            "SELECT docid FROM t1 WHERE c LIKE 'That%' ORDER BY docid;\n",
            "DROP TABLE IF EXISTS t1;\n",
            "DROP TABLE IF EXISTS t2;\n",
            "CREATE VIRTUAL TABLE t1 USING fts3(c);\n",
            "CREATE TABLE t2(id INTEGER PRIMARY KEY AUTOINCREMENT, weight INTEGER UNIQUE);\n",
            "INSERT INTO t2 VALUES (null, 10);\n",
            "INSERT INTO t1 (docid, c) VALUES (last_insert_rowid(), 'This is a test');\n",
            "INSERT INTO t2 VALUES (null, 5);\n",
            "INSERT INTO t1 (docid, c) VALUES (last_insert_rowid(), 'That was a test');\n",
            "INSERT INTO t2 VALUES (null, 20);\n",
            "INSERT INTO t1 (docid, c) VALUES (last_insert_rowid(), 'This is a test');\n",
            "SELECT docid FROM t1 WHERE docid in (1, 2, 10);\n",
            "SELECT rowid FROM t1 WHERE rowid in (1, 2, 10);\n",
            "SELECT docid, weight FROM t1, t2 WHERE t2.id = t1.docid ORDER BY weight;\n",
            "SELECT t1.rowid, weight FROM t1, t2 WHERE t2.id = t1.rowid ORDER BY weight;\n",
            "SELECT docid, weight FROM t1, t2\n",
            "           WHERE t2.weight>5 AND t2.id = t1.docid ORDER BY weight;\n",
            "SELECT t1.rowid, weight FROM t1, t2\n",
            "           WHERE t2.weight>5 AND t2.id = t1.rowid ORDER BY weight;\n",
            "DROP TABLE IF EXISTS t1;\n",
            "DROP TABLE IF EXISTS t2;\n",
            "CREATE VIRTUAL TABLE t1 USING fts3(c);\n",
            "CREATE TABLE t2(id INTEGER PRIMARY KEY AUTOINCREMENT, weight INTEGER UNIQUE);\n",
            "INSERT INTO t2 VALUES (null, 10);\n",
            "INSERT INTO t1 (docid, c) VALUES (last_insert_rowid(), 'This is a test');\n",
            "INSERT INTO t2 VALUES (null, 5);\n",
            "INSERT INTO t1 (docid, c) VALUES (last_insert_rowid(), 'That was a test');\n",
            "INSERT INTO t2 VALUES (null, 20);\n",
            "INSERT INTO t1 (docid, c) VALUES (last_insert_rowid(), 'This is a test');\n",
            "SELECT docid FROM t1 WHERE t1 MATCH 'this' ORDER BY docid;\n",
            "SELECT docid, weight FROM t1, t2\n",
            "     WHERE t1 MATCH 'this' AND t1.docid = t2.id ORDER BY weight;\n",
            "\n"
          ]
        }
      ]
    },
    {
      "cell_type": "markdown",
      "source": [
        "### SQLite3 execute"
      ],
      "metadata": {
        "id": "6JlstPzzu2Ji"
      }
    },
    {
      "cell_type": "code",
      "source": [
        "import sqlite3"
      ],
      "metadata": {
        "id": "IybxM3V2u1uP"
      },
      "execution_count": null,
      "outputs": []
    },
    {
      "cell_type": "code",
      "source": [
        "# 참고 [https://github.com/hassanazimi/Python/blob/master/16%20Databases/sqlite3-class.py]\n",
        "class sqlite3_:\n",
        "    @property\n",
        "    def filename(self): return self._filename\n",
        "    @filename.setter\n",
        "    def filename(self, fn):\n",
        "        self._filename = fn\n",
        "        self._db = sqlite3.connect(fn)\n",
        "        self._db.row_factory = sqlite3.Row\n",
        "    @filename.deleter\n",
        "    def filename(self): self.close()\n",
        "    @property\n",
        "    def table(self): return self._table\n",
        "    @table.setter\n",
        "    def table(self, t): self._table = t\n",
        "    @table.deleter\n",
        "    def table(self): self._table = 'test'\n",
        "\n",
        "    def close(self):\n",
        "            self._db.close()\n",
        "            del self._filename\n",
        "\n",
        "    def __init__(self, **kwargs):\n",
        "        self.filename = kwargs.get('filename')\n",
        "        self.table = kwargs.get('table', 'test')\n",
        "\n",
        "\n",
        "    # 실행 코드\n",
        "    def sql_do(self, sql, *params):\n",
        "        self._db.execute(sql, params)\n",
        "        self._db.commit()"
      ],
      "metadata": {
        "id": "rMWCsA9lvBpt"
      },
      "execution_count": null,
      "outputs": []
    },
    {
      "cell_type": "code",
      "source": [
        "def main_SQLite(query):\n",
        "    db = sqlite3_(filename = 'SQLFuzzer', table = 'SQLFuzzer')\n",
        "\n",
        "    # string -> List\n",
        "    queries = query.replace('\\n', '').split(';')\n",
        "    ## 공백 및 빈 문자열 제거\n",
        "    queries = [query.strip() for query in queries if query.strip()]\n",
        "    for query in queries:\n",
        "        db.sql_do(query+\";\")\n",
        "\n",
        "    db.close()"
      ],
      "metadata": {
        "id": "91uB9wEjvE-5"
      },
      "execution_count": null,
      "outputs": []
    },
    {
      "cell_type": "markdown",
      "source": [
        "# GreyBox Fuzzing"
      ],
      "metadata": {
        "id": "YDBBsgqLvKt0"
      }
    },
    {
      "cell_type": "markdown",
      "source": [
        "## INSTALL"
      ],
      "metadata": {
        "id": "MRX5V1p9vOQ7"
      }
    },
    {
      "cell_type": "code",
      "source": [
        "pip install fuzzingbook"
      ],
      "metadata": {
        "colab": {
          "base_uri": "https://localhost:8080/"
        },
        "id": "ban0fJ-LvN2V",
        "outputId": "d3d10273-5ea2-474c-838b-eae6d6f4b53b"
      },
      "execution_count": null,
      "outputs": [
        {
          "output_type": "stream",
          "name": "stdout",
          "text": [
            "Looking in indexes: https://pypi.org/simple, https://us-python.pkg.dev/colab-wheels/public/simple/\n",
            "Requirement already satisfied: fuzzingbook in /usr/local/lib/python3.10/dist-packages (1.1)\n",
            "Requirement already satisfied: beautifulsoup4>=4.9.3 in /usr/local/lib/python3.10/dist-packages (from fuzzingbook) (4.11.2)\n",
            "Requirement already satisfied: cargo>=0.3 in /usr/local/lib/python3.10/dist-packages (from fuzzingbook) (0.3)\n",
            "Requirement already satisfied: diff-match-patch>=20200713 in /usr/local/lib/python3.10/dist-packages (from fuzzingbook) (20230430)\n",
            "Requirement already satisfied: easyplotly>=0.1.3 in /usr/local/lib/python3.10/dist-packages (from fuzzingbook) (0.1.3)\n",
            "Requirement already satisfied: enforce>=0.3.4 in /usr/local/lib/python3.10/dist-packages (from fuzzingbook) (0.3.4)\n",
            "Requirement already satisfied: graphviz>=0.14.2 in /usr/local/lib/python3.10/dist-packages (from fuzzingbook) (0.20.1)\n",
            "Requirement already satisfied: ipython>=7.16.1 in /usr/local/lib/python3.10/dist-packages (from fuzzingbook) (7.34.0)\n",
            "Requirement already satisfied: lxml>=4.5.1 in /usr/local/lib/python3.10/dist-packages (from fuzzingbook) (4.9.2)\n",
            "Requirement already satisfied: Markdown>=3.3.4 in /usr/local/lib/python3.10/dist-packages (from fuzzingbook) (3.4.3)\n",
            "Requirement already satisfied: matplotlib>=3.3.2 in /usr/local/lib/python3.10/dist-packages (from fuzzingbook) (3.7.1)\n",
            "Requirement already satisfied: multiprocess>=0.70.12.2 in /usr/local/lib/python3.10/dist-packages (from fuzzingbook) (0.70.14)\n",
            "Requirement already satisfied: nbconvert>=6.0.7 in /usr/local/lib/python3.10/dist-packages (from fuzzingbook) (6.5.4)\n",
            "Requirement already satisfied: nbformat>=5.0.8 in /usr/local/lib/python3.10/dist-packages (from fuzzingbook) (5.8.0)\n",
            "Requirement already satisfied: networkx>=2.5 in /usr/local/lib/python3.10/dist-packages (from fuzzingbook) (3.1)\n",
            "Requirement already satisfied: notedown>=1.5.1 in /usr/local/lib/python3.10/dist-packages (from fuzzingbook) (1.5.1)\n",
            "Requirement already satisfied: numpy>=1.16.5 in /usr/local/lib/python3.10/dist-packages (from fuzzingbook) (1.22.4)\n",
            "Requirement already satisfied: pandas>=1.3.3 in /usr/local/lib/python3.10/dist-packages (from fuzzingbook) (1.5.3)\n",
            "Requirement already satisfied: pydot>=1.4.2 in /usr/local/lib/python3.10/dist-packages (from fuzzingbook) (1.4.2)\n",
            "Requirement already satisfied: pyparsing==2.4.7 in /usr/local/lib/python3.10/dist-packages (from fuzzingbook) (2.4.7)\n",
            "Requirement already satisfied: Pygments>=2.7.1 in /usr/local/lib/python3.10/dist-packages (from fuzzingbook) (2.14.0)\n",
            "Requirement already satisfied: python-magic>=0.4.18 in /usr/local/lib/python3.10/dist-packages (from fuzzingbook) (0.4.27)\n",
            "Requirement already satisfied: scikit-learn>=0.23.2 in /usr/local/lib/python3.10/dist-packages (from fuzzingbook) (1.2.2)\n",
            "Requirement already satisfied: scipy>=1.7.1 in /usr/local/lib/python3.10/dist-packages (from fuzzingbook) (1.10.1)\n",
            "Requirement already satisfied: selenium>=3.141.0 in /usr/local/lib/python3.10/dist-packages (from fuzzingbook) (4.10.0)\n",
            "Requirement already satisfied: showast>=0.2.4 in /usr/local/lib/python3.10/dist-packages (from fuzzingbook) (0.2.4)\n",
            "Requirement already satisfied: svglib>=1.1.0 in /usr/local/lib/python3.10/dist-packages (from fuzzingbook) (1.5.1)\n",
            "Requirement already satisfied: types-Markdown>=3 in /usr/local/lib/python3.10/dist-packages (from fuzzingbook) (3.4.2.9)\n",
            "Requirement already satisfied: yapf>=0.31.0 in /usr/local/lib/python3.10/dist-packages (from fuzzingbook) (0.40.0)\n",
            "Requirement already satisfied: z3-solver>=4.8.13.0 in /usr/local/lib/python3.10/dist-packages (from fuzzingbook) (4.12.2.0)\n",
            "Requirement already satisfied: soupsieve>1.2 in /usr/local/lib/python3.10/dist-packages (from beautifulsoup4>=4.9.3->fuzzingbook) (2.4.1)\n",
            "Requirement already satisfied: plotly in /usr/local/lib/python3.10/dist-packages (from easyplotly>=0.1.3->fuzzingbook) (5.13.1)\n",
            "Requirement already satisfied: wrapt in /usr/local/lib/python3.10/dist-packages (from enforce>=0.3.4->fuzzingbook) (1.14.1)\n",
            "Requirement already satisfied: setuptools>=18.5 in /usr/local/lib/python3.10/dist-packages (from ipython>=7.16.1->fuzzingbook) (67.7.2)\n",
            "Requirement already satisfied: jedi>=0.16 in /usr/local/lib/python3.10/dist-packages (from ipython>=7.16.1->fuzzingbook) (0.18.2)\n",
            "Requirement already satisfied: decorator in /usr/local/lib/python3.10/dist-packages (from ipython>=7.16.1->fuzzingbook) (4.4.2)\n",
            "Requirement already satisfied: pickleshare in /usr/local/lib/python3.10/dist-packages (from ipython>=7.16.1->fuzzingbook) (0.7.5)\n",
            "Requirement already satisfied: traitlets>=4.2 in /usr/local/lib/python3.10/dist-packages (from ipython>=7.16.1->fuzzingbook) (5.7.1)\n",
            "Requirement already satisfied: prompt-toolkit!=3.0.0,!=3.0.1,<3.1.0,>=2.0.0 in /usr/local/lib/python3.10/dist-packages (from ipython>=7.16.1->fuzzingbook) (3.0.38)\n",
            "Requirement already satisfied: backcall in /usr/local/lib/python3.10/dist-packages (from ipython>=7.16.1->fuzzingbook) (0.2.0)\n",
            "Requirement already satisfied: matplotlib-inline in /usr/local/lib/python3.10/dist-packages (from ipython>=7.16.1->fuzzingbook) (0.1.6)\n",
            "Requirement already satisfied: pexpect>4.3 in /usr/local/lib/python3.10/dist-packages (from ipython>=7.16.1->fuzzingbook) (4.8.0)\n",
            "Requirement already satisfied: contourpy>=1.0.1 in /usr/local/lib/python3.10/dist-packages (from matplotlib>=3.3.2->fuzzingbook) (1.0.7)\n",
            "Requirement already satisfied: cycler>=0.10 in /usr/local/lib/python3.10/dist-packages (from matplotlib>=3.3.2->fuzzingbook) (0.11.0)\n",
            "Requirement already satisfied: fonttools>=4.22.0 in /usr/local/lib/python3.10/dist-packages (from matplotlib>=3.3.2->fuzzingbook) (4.39.3)\n",
            "Requirement already satisfied: kiwisolver>=1.0.1 in /usr/local/lib/python3.10/dist-packages (from matplotlib>=3.3.2->fuzzingbook) (1.4.4)\n",
            "Requirement already satisfied: packaging>=20.0 in /usr/local/lib/python3.10/dist-packages (from matplotlib>=3.3.2->fuzzingbook) (23.1)\n",
            "Requirement already satisfied: pillow>=6.2.0 in /usr/local/lib/python3.10/dist-packages (from matplotlib>=3.3.2->fuzzingbook) (9.5.0)\n",
            "Requirement already satisfied: python-dateutil>=2.7 in /usr/local/lib/python3.10/dist-packages (from matplotlib>=3.3.2->fuzzingbook) (2.8.2)\n",
            "Requirement already satisfied: dill>=0.3.6 in /usr/local/lib/python3.10/dist-packages (from multiprocess>=0.70.12.2->fuzzingbook) (0.3.6)\n",
            "Requirement already satisfied: bleach in /usr/local/lib/python3.10/dist-packages (from nbconvert>=6.0.7->fuzzingbook) (6.0.0)\n",
            "Requirement already satisfied: defusedxml in /usr/local/lib/python3.10/dist-packages (from nbconvert>=6.0.7->fuzzingbook) (0.7.1)\n",
            "Requirement already satisfied: entrypoints>=0.2.2 in /usr/local/lib/python3.10/dist-packages (from nbconvert>=6.0.7->fuzzingbook) (0.4)\n",
            "Requirement already satisfied: jinja2>=3.0 in /usr/local/lib/python3.10/dist-packages (from nbconvert>=6.0.7->fuzzingbook) (3.1.2)\n",
            "Requirement already satisfied: jupyter-core>=4.7 in /usr/local/lib/python3.10/dist-packages (from nbconvert>=6.0.7->fuzzingbook) (5.3.0)\n",
            "Requirement already satisfied: jupyterlab-pygments in /usr/local/lib/python3.10/dist-packages (from nbconvert>=6.0.7->fuzzingbook) (0.2.2)\n",
            "Requirement already satisfied: MarkupSafe>=2.0 in /usr/local/lib/python3.10/dist-packages (from nbconvert>=6.0.7->fuzzingbook) (2.1.2)\n",
            "Requirement already satisfied: mistune<2,>=0.8.1 in /usr/local/lib/python3.10/dist-packages (from nbconvert>=6.0.7->fuzzingbook) (0.8.4)\n",
            "Requirement already satisfied: nbclient>=0.5.0 in /usr/local/lib/python3.10/dist-packages (from nbconvert>=6.0.7->fuzzingbook) (0.7.4)\n",
            "Requirement already satisfied: pandocfilters>=1.4.1 in /usr/local/lib/python3.10/dist-packages (from nbconvert>=6.0.7->fuzzingbook) (1.5.0)\n",
            "Requirement already satisfied: tinycss2 in /usr/local/lib/python3.10/dist-packages (from nbconvert>=6.0.7->fuzzingbook) (1.2.1)\n",
            "Requirement already satisfied: fastjsonschema in /usr/local/lib/python3.10/dist-packages (from nbformat>=5.0.8->fuzzingbook) (2.16.3)\n",
            "Requirement already satisfied: jsonschema>=2.6 in /usr/local/lib/python3.10/dist-packages (from nbformat>=5.0.8->fuzzingbook) (4.3.3)\n",
            "Requirement already satisfied: pandoc-attributes in /usr/local/lib/python3.10/dist-packages (from notedown>=1.5.1->fuzzingbook) (0.1.7)\n",
            "Requirement already satisfied: six in /usr/local/lib/python3.10/dist-packages (from notedown>=1.5.1->fuzzingbook) (1.16.0)\n",
            "Requirement already satisfied: pytz>=2020.1 in /usr/local/lib/python3.10/dist-packages (from pandas>=1.3.3->fuzzingbook) (2022.7.1)\n",
            "Requirement already satisfied: joblib>=1.1.1 in /usr/local/lib/python3.10/dist-packages (from scikit-learn>=0.23.2->fuzzingbook) (1.2.0)\n",
            "Requirement already satisfied: threadpoolctl>=2.0.0 in /usr/local/lib/python3.10/dist-packages (from scikit-learn>=0.23.2->fuzzingbook) (3.1.0)\n",
            "Requirement already satisfied: urllib3[socks]<3,>=1.26 in /usr/local/lib/python3.10/dist-packages (from selenium>=3.141.0->fuzzingbook) (1.26.15)\n",
            "Requirement already satisfied: trio~=0.17 in /usr/local/lib/python3.10/dist-packages (from selenium>=3.141.0->fuzzingbook) (0.22.0)\n",
            "Requirement already satisfied: trio-websocket~=0.9 in /usr/local/lib/python3.10/dist-packages (from selenium>=3.141.0->fuzzingbook) (0.10.3)\n",
            "Requirement already satisfied: certifi>=2021.10.8 in /usr/local/lib/python3.10/dist-packages (from selenium>=3.141.0->fuzzingbook) (2022.12.7)\n",
            "Requirement already satisfied: reportlab in /usr/local/lib/python3.10/dist-packages (from svglib>=1.1.0->fuzzingbook) (4.0.4)\n",
            "Requirement already satisfied: cssselect2>=0.2.0 in /usr/local/lib/python3.10/dist-packages (from svglib>=1.1.0->fuzzingbook) (0.7.0)\n",
            "Requirement already satisfied: importlib-metadata>=6.6.0 in /usr/local/lib/python3.10/dist-packages (from yapf>=0.31.0->fuzzingbook) (6.7.0)\n",
            "Requirement already satisfied: platformdirs>=3.5.1 in /usr/local/lib/python3.10/dist-packages (from yapf>=0.31.0->fuzzingbook) (3.6.0)\n",
            "Requirement already satisfied: tomli>=2.0.1 in /usr/local/lib/python3.10/dist-packages (from yapf>=0.31.0->fuzzingbook) (2.0.1)\n",
            "Requirement already satisfied: webencodings in /usr/local/lib/python3.10/dist-packages (from cssselect2>=0.2.0->svglib>=1.1.0->fuzzingbook) (0.5.1)\n",
            "Requirement already satisfied: zipp>=0.5 in /usr/local/lib/python3.10/dist-packages (from importlib-metadata>=6.6.0->yapf>=0.31.0->fuzzingbook) (3.15.0)\n",
            "Requirement already satisfied: parso<0.9.0,>=0.8.0 in /usr/local/lib/python3.10/dist-packages (from jedi>=0.16->ipython>=7.16.1->fuzzingbook) (0.8.3)\n",
            "Requirement already satisfied: attrs>=17.4.0 in /usr/local/lib/python3.10/dist-packages (from jsonschema>=2.6->nbformat>=5.0.8->fuzzingbook) (23.1.0)\n",
            "Requirement already satisfied: pyrsistent!=0.17.0,!=0.17.1,!=0.17.2,>=0.14.0 in /usr/local/lib/python3.10/dist-packages (from jsonschema>=2.6->nbformat>=5.0.8->fuzzingbook) (0.19.3)\n",
            "Requirement already satisfied: jupyter-client>=6.1.12 in /usr/local/lib/python3.10/dist-packages (from nbclient>=0.5.0->nbconvert>=6.0.7->fuzzingbook) (6.1.12)\n",
            "Requirement already satisfied: ptyprocess>=0.5 in /usr/local/lib/python3.10/dist-packages (from pexpect>4.3->ipython>=7.16.1->fuzzingbook) (0.7.0)\n",
            "Requirement already satisfied: wcwidth in /usr/local/lib/python3.10/dist-packages (from prompt-toolkit!=3.0.0,!=3.0.1,<3.1.0,>=2.0.0->ipython>=7.16.1->fuzzingbook) (0.2.6)\n",
            "Requirement already satisfied: sortedcontainers in /usr/local/lib/python3.10/dist-packages (from trio~=0.17->selenium>=3.141.0->fuzzingbook) (2.4.0)\n",
            "Requirement already satisfied: async-generator>=1.9 in /usr/local/lib/python3.10/dist-packages (from trio~=0.17->selenium>=3.141.0->fuzzingbook) (1.10)\n",
            "Requirement already satisfied: idna in /usr/local/lib/python3.10/dist-packages (from trio~=0.17->selenium>=3.141.0->fuzzingbook) (3.4)\n",
            "Requirement already satisfied: outcome in /usr/local/lib/python3.10/dist-packages (from trio~=0.17->selenium>=3.141.0->fuzzingbook) (1.2.0)\n",
            "Requirement already satisfied: sniffio in /usr/local/lib/python3.10/dist-packages (from trio~=0.17->selenium>=3.141.0->fuzzingbook) (1.3.0)\n",
            "Requirement already satisfied: exceptiongroup>=1.0.0rc9 in /usr/local/lib/python3.10/dist-packages (from trio~=0.17->selenium>=3.141.0->fuzzingbook) (1.1.1)\n",
            "Requirement already satisfied: wsproto>=0.14 in /usr/local/lib/python3.10/dist-packages (from trio-websocket~=0.9->selenium>=3.141.0->fuzzingbook) (1.2.0)\n",
            "Requirement already satisfied: PySocks!=1.5.7,<2.0,>=1.5.6 in /usr/local/lib/python3.10/dist-packages (from urllib3[socks]<3,>=1.26->selenium>=3.141.0->fuzzingbook) (1.7.1)\n",
            "Requirement already satisfied: tenacity>=6.2.0 in /usr/local/lib/python3.10/dist-packages (from plotly->easyplotly>=0.1.3->fuzzingbook) (8.2.2)\n",
            "Requirement already satisfied: pyzmq>=13 in /usr/local/lib/python3.10/dist-packages (from jupyter-client>=6.1.12->nbclient>=0.5.0->nbconvert>=6.0.7->fuzzingbook) (23.2.1)\n",
            "Requirement already satisfied: tornado>=4.1 in /usr/local/lib/python3.10/dist-packages (from jupyter-client>=6.1.12->nbclient>=0.5.0->nbconvert>=6.0.7->fuzzingbook) (6.3.1)\n",
            "Requirement already satisfied: h11<1,>=0.9.0 in /usr/local/lib/python3.10/dist-packages (from wsproto>=0.14->trio-websocket~=0.9->selenium>=3.141.0->fuzzingbook) (0.14.0)\n"
          ]
        }
      ]
    },
    {
      "cell_type": "markdown",
      "source": [
        "## IMPORT"
      ],
      "metadata": {
        "id": "BLoSj-FVvVTO"
      }
    },
    {
      "cell_type": "code",
      "source": [
        "from typing import List, Set, Dict, Sequence, cast, Any, Tuple, Union, Callable\n",
        "from collections.abc import Sequence\n",
        "\n",
        "import random\n",
        "import time\n",
        "\n",
        "import sqlparse\n",
        "\n",
        "import matplotlib.pyplot as plt\n",
        "import numpy as np"
      ],
      "metadata": {
        "id": "BKlFTlmkvXOh"
      },
      "execution_count": null,
      "outputs": []
    },
    {
      "cell_type": "code",
      "source": [
        "from fuzzingbook.Fuzzer import Fuzzer, Runner\n",
        "from fuzzingbook.MutationFuzzer import FunctionCoverageRunner\n",
        "from fuzzingbook.GreyboxFuzzer import Mutator, Seed, PowerSchedule, AdvancedMutationFuzzer\n",
        "from fuzzingbook.Coverage import population_coverage\n",
        "from fuzzingbook.GrammarCoverageFuzzer import SimpleGrammarCoverageFuzzer\n",
        "from fuzzingbook.GreyboxGrammarFuzzer import FragmentMutator, SeedWithStructure\n",
        "from fuzzingbook.Parser import EarleyParser"
      ],
      "metadata": {
        "id": "xsKoGHdovd5S"
      },
      "execution_count": null,
      "outputs": []
    },
    {
      "cell_type": "markdown",
      "source": [
        "## Basic Greybox Fuzzer"
      ],
      "metadata": {
        "id": "YQxvGWv3vihY"
      }
    },
    {
      "cell_type": "code",
      "source": [
        "class BasicGreyboxFuzzer(AdvancedMutationFuzzer):\n",
        "    \"\"\"Coverage-guided mutational fuzzing.\"\"\"\n",
        "\n",
        "    def reset(self):\n",
        "        super().reset()\n",
        "        self.coverages_seen = set()\n",
        "        self.population = []  # population is filled during greybox fuzzing\n",
        "\n",
        "    def run(self, runner: FunctionCoverageRunner) -> Tuple[Any, str]:\n",
        "\n",
        "        result, outcome = super().run(runner)\n",
        "        new_coverage = frozenset(runner.coverage())\n",
        "        if new_coverage not in self.coverages_seen:\n",
        "            # We have new coverage\n",
        "            seed = Seed(self.inp)\n",
        "            seed.coverage = runner.coverage()\n",
        "            self.coverages_seen.add(new_coverage)\n",
        "            self.population.append(seed)\n",
        "\n",
        "        return (result, outcome)"
      ],
      "metadata": {
        "id": "5VrkhR05viKi"
      },
      "execution_count": null,
      "outputs": []
    },
    {
      "cell_type": "markdown",
      "source": [
        "## Boosted Greybox Fuzzer"
      ],
      "metadata": {
        "id": "7Vul_LT_vkyc"
      }
    },
    {
      "cell_type": "code",
      "source": [
        "import pickle   # 개체의 모든 정보에서 바이트 배열을 생성하여 개체를 직렬화\n",
        "import hashlib  # 바이트 배열에서 128비트 해시 값을 생성"
      ],
      "metadata": {
        "id": "swwU-tfevnq3"
      },
      "execution_count": null,
      "outputs": []
    },
    {
      "cell_type": "code",
      "source": [
        "def getPathID(coverage: Any) -> str:\n",
        "    \"\"\"Returns a unique hash for the covered statements\"\"\"\n",
        "    pickled = pickle.dumps(sorted(coverage))\n",
        "    return hashlib.md5(pickled).hexdigest()"
      ],
      "metadata": {
        "id": "8i_jEFrJvoqs"
      },
      "execution_count": null,
      "outputs": []
    },
    {
      "cell_type": "code",
      "source": [
        "class AFLFastSchedule(PowerSchedule):\n",
        "    \"\"\"Exponential power schedule as implemented in AFL\"\"\"\n",
        "\n",
        "    def __init__(self, exponent: float) -> None:\n",
        "        self.exponent = exponent\n",
        "\n",
        "    def assignEnergy(self, population: Sequence[Seed]) -> None:\n",
        "        \"\"\"Assign exponential energy inversely proportional to path frequency\"\"\"\n",
        "        for seed in population:\n",
        "            seed.energy = 1 / (self.path_frequency[getPathID(seed.coverage)] ** self.exponent)"
      ],
      "metadata": {
        "id": "A5-XuytAvphA"
      },
      "execution_count": null,
      "outputs": []
    },
    {
      "cell_type": "code",
      "source": [
        "class BoostedGreyboxFuzzer(BasicGreyboxFuzzer):\n",
        "    def reset(self):\n",
        "        super().reset()\n",
        "        self.schedule.path_frequency = {}\n",
        "\n",
        "    def run(self, runner: FunctionCoverageRunner) -> Tuple[Any, str]:\n",
        "        result, outcome = super().run(runner)\n",
        "\n",
        "        path_id = getPathID(runner.coverage())\n",
        "        if path_id not in self.schedule.path_frequency:\n",
        "            self.schedule.path_frequency[path_id] = 1\n",
        "        else:\n",
        "            self.schedule.path_frequency[path_id] += 1\n",
        "\n",
        "        return(result, outcome)"
      ],
      "metadata": {
        "id": "S0raKc_mvqRl"
      },
      "execution_count": null,
      "outputs": []
    },
    {
      "cell_type": "markdown",
      "source": [
        "## Grammar Greybox Fuzzer"
      ],
      "metadata": {
        "id": "kRC-6B31vrh1"
      }
    },
    {
      "cell_type": "code",
      "source": [
        "SimpleGrammar = Dict[str, List[str]]\n",
        "Option = Dict[str, Any]\n",
        "Expansion = Union[str, Tuple[str, Option]]\n",
        "\n",
        "Grammar = Dict[str, List[Expansion]]"
      ],
      "metadata": {
        "id": "MPNNEelhvtVM"
      },
      "execution_count": null,
      "outputs": []
    },
    {
      "cell_type": "code",
      "source": [
        "str_value = [\"str0\", \"str1\", \"str2\", \"str3\", \"str4\", \"str5\", \"str6\", \"str7\", \"str8\", \"str9\"]\n",
        "int_value = []\n",
        "for i in range(100):\n",
        "    int_value.append(str(i))\n",
        "\n",
        "sqlite_grammar: Grammar = {\n",
        "     \"<start>\": [\"<query>\"]\n",
        "\n",
        "    ,\"<query>\": [\"DROP TABLE IF EXISTS <table> ;\",\n",
        "                 \"SELECT <columns> FROM <table> ;\",\n",
        "                 \"SELECT <table>.<columns> FROM <table> ;\",\n",
        "                 \"SELECT <columns> FROM <table> ORDER BY <columns>;\",\n",
        "                 \"INSERT INTO <table> (<columns>) VALUES (<values>);\"]\n",
        "\n",
        "    ,\"<columns>\": [\"<column>\", \"<column>, <columns>\"]\n",
        "    ,\"<column>\": [\"*\", \"<column_name>\", \"<column_name> AS <alias>\"]\n",
        "    ,\"<table>\": [\"t1\", \"t2\"]\n",
        "    ,\"<column_name>\": [\"c1\", \"c2\", \"c3\"]\n",
        "    ,\"<alias>\": [\"<table>\"]\n",
        "    ,\"<values>\": [\"<str_values>\", \"<int_values>\"]\n",
        "    ,\"<str_values>\": [\"<str_value>\", \"<str_value>, <str_values>\"]\n",
        "    ,\"<str_value>\": str_value\n",
        "\n",
        "    ,\"<int_values>\": [\"<int_value>\", \"<int_value>, <int_values>\"]\n",
        "    ,\"<int_value>\": int_value\n",
        "}"
      ],
      "metadata": {
        "id": "rgoH0dEMvu2p"
      },
      "execution_count": null,
      "outputs": []
    },
    {
      "cell_type": "code",
      "source": [
        "sql_TOKENS: Set[str] = {\n",
        "    \"<start>\": \"Start\",\n",
        "    \"<query>\": \"Query\",\n",
        "    \"<columns>\": \"Columns\",\n",
        "    \"<column>\": \"Column\",\n",
        "    \"<table>\": \"Table\",\n",
        "    \"<column_name>\": \"Column Name\",\n",
        "    \"<alias>\": \"Alias\",\n",
        "    \"<values>\": \"Values\",\n",
        "    \"<str_values>\": \"String Values\",\n",
        "    \"<str_value>\": \"String Value\",\n",
        "    \"<int_values>\": \"Integer Values\",\n",
        "    \"<int_value>\": \"Integer Value\",\n",
        "}"
      ],
      "metadata": {
        "id": "MfuTIFOSvwi4"
      },
      "execution_count": null,
      "outputs": []
    },
    {
      "cell_type": "code",
      "source": [
        "class GrammarGreyboxFuzzer(BasicGreyboxFuzzer):\n",
        "    def __init__(self, seeds: List[str],\n",
        "                 byte_mutator: Mutator, tree_mutator: FragmentMutator,\n",
        "                 schedule: PowerSchedule) -> None:\n",
        "\n",
        "        super().__init__(seeds, byte_mutator, schedule)\n",
        "        self.tree_mutator = tree_mutator\n",
        "\n",
        "    def create_candidate(self) -> str:\n",
        "        seed = cast(SeedWithStructure, self.schedule.choose(self.population))\n",
        "\n",
        "        # Structural mutation\n",
        "        trials = random.randint(0, 4)\n",
        "        for i in range(trials):\n",
        "            seed = self.tree_mutator.mutate(seed)\n",
        "\n",
        "        # Byte-level mutation\n",
        "        candidate = seed.data\n",
        "        if trials == 0 or not seed.has_structure or random.randint(0, 1) == 1:\n",
        "            dumb_trials = min(len(seed.data), 1 << random.randint(1, 5))\n",
        "            for i in range(dumb_trials):\n",
        "                candidate = self.mutator.mutate(candidate)\n",
        "\n",
        "        return candidate"
      ],
      "metadata": {
        "id": "4BAAmxqpvxxG"
      },
      "execution_count": null,
      "outputs": []
    },
    {
      "cell_type": "markdown",
      "source": [
        "## TEST"
      ],
      "metadata": {
        "id": "L5hVVUH2wQsi"
      }
    },
    {
      "cell_type": "markdown",
      "source": [
        "* **my_sql_parser** SQL구문의 Parsing을 도와주는 함수"
      ],
      "metadata": {
        "id": "u9fBwAYTwXYM"
      }
    },
    {
      "cell_type": "code",
      "source": [
        "def my_sql_parser(query: str) -> None:\n",
        "    parser = sqlparse.parse(query, encoding=None)"
      ],
      "metadata": {
        "id": "FTpzuFw4wWhf"
      },
      "execution_count": null,
      "outputs": []
    },
    {
      "cell_type": "code",
      "source": [
        "n = 100\n",
        "seed_input = query"
      ],
      "metadata": {
        "id": "uCeXQBtzwSGE"
      },
      "execution_count": null,
      "outputs": []
    },
    {
      "cell_type": "markdown",
      "source": [
        "### Run-Time"
      ],
      "metadata": {
        "id": "iPyBtgx5xq9A"
      }
    },
    {
      "cell_type": "code",
      "source": [
        "# BasicGreyboxFuzzer\n",
        "Basic_Greybox_fuzzer = BasicGreyboxFuzzer([seed_input], Mutator(), PowerSchedule())\n",
        "\n",
        "start = time.time()\n",
        "Basic_Greybox_fuzzer.runs(FunctionCoverageRunner(my_sql_parser), trials=n)\n",
        "end = time.time()\n",
        "\n",
        "basic_run_time = end - start\n",
        "\"%d 입력을 생성하고 실행하는 데 Basic_Greybox_fuzzer %0.2f초가 걸렸습니다.\" % (n, basic_run_time)"
      ],
      "metadata": {
        "id": "m0GpXaN2wkIW",
        "colab": {
          "base_uri": "https://localhost:8080/",
          "height": 439
        },
        "outputId": "308e5ca1-deff-4127-b309-a9d5d9dbb786"
      },
      "execution_count": null,
      "outputs": [
        {
          "output_type": "stream",
          "name": "stderr",
          "text": [
            "\n",
            "PYDEV DEBUGGER WARNING:\n",
            "sys.settrace() should not be used when the debugger is being used.\n",
            "This may cause the debugger to stop working correctly.\n",
            "If this is needed, please check: \n",
            "http://pydev.blogspot.com/2007/06/why-cant-pydev-debugger-work-with.html\n",
            "to see how to restore the debug tracing back correctly.\n",
            "Call Location:\n",
            "  File \"/usr/local/lib/python3.10/dist-packages/fuzzingbook/Coverage.py\", line 367, in __enter__\n",
            "    sys.settrace(self.traceit)\n",
            "\n",
            "\n",
            "PYDEV DEBUGGER WARNING:\n",
            "sys.settrace() should not be used when the debugger is being used.\n",
            "This may cause the debugger to stop working correctly.\n",
            "If this is needed, please check: \n",
            "http://pydev.blogspot.com/2007/06/why-cant-pydev-debugger-work-with.html\n",
            "to see how to restore the debug tracing back correctly.\n",
            "Call Location:\n",
            "  File \"/usr/local/lib/python3.10/dist-packages/fuzzingbook/Coverage.py\", line 373, in __exit__\n",
            "    sys.settrace(self.original_trace_function)\n",
            "\n"
          ]
        },
        {
          "output_type": "execute_result",
          "data": {
            "text/plain": [
              "'100 입력을 생성하고 실행하는 데 Basic_Greybox_fuzzer 70.76초가 걸렸습니다.'"
            ],
            "application/vnd.google.colaboratory.intrinsic+json": {
              "type": "string"
            }
          },
          "metadata": {},
          "execution_count": 23
        }
      ]
    },
    {
      "cell_type": "code",
      "source": [
        "# BoostedGreyboxFuzzer\n",
        "Boosted_Greybox_Fuzzer = BoostedGreyboxFuzzer([seed_input], Mutator(), AFLFastSchedule(5))\n",
        "\n",
        "start = time.time()\n",
        "Boosted_Greybox_Fuzzer.runs(FunctionCoverageRunner(my_sql_parser), trials=n)\n",
        "end = time.time()\n",
        "\n",
        "boosted_run_time = end - start\n",
        "\"%d 입력을 생성하고 실행하는 데 Boosted_Greybox_Fuzzer %0.2f초가 걸렸습니다.\" % (n, boosted_run_time)"
      ],
      "metadata": {
        "id": "rCkyMoxtwwZK",
        "colab": {
          "base_uri": "https://localhost:8080/",
          "height": 35
        },
        "outputId": "b4a95e2e-4ee4-4334-819d-1e786fe9ca4e"
      },
      "execution_count": null,
      "outputs": [
        {
          "output_type": "execute_result",
          "data": {
            "text/plain": [
              "'100 입력을 생성하고 실행하는 데 Boosted_Greybox_Fuzzer 78.63초가 걸렸습니다.'"
            ],
            "application/vnd.google.colaboratory.intrinsic+json": {
              "type": "string"
            }
          },
          "metadata": {},
          "execution_count": 24
        }
      ]
    },
    {
      "cell_type": "code",
      "source": [
        "# GrammarGreyboxFuzzer\n",
        "tree_mutator = FragmentMutator(EarleyParser(sqlite_grammar, tokens=sql_TOKENS))\n",
        "Grammar_Greybox_Fuzzer = GrammarGreyboxFuzzer([seed_input], Mutator(), tree_mutator, PowerSchedule())\n",
        "\n",
        "start = time.time()\n",
        "Grammar_Greybox_Fuzzer.runs(FunctionCoverageRunner(my_sql_parser), trials=n)\n",
        "end = time.time()\n",
        "\n",
        "grammar_run_time = end - start\n",
        "\n",
        "\"%d 입력을 생성하고 실행하는 데 Grammar_Greybox_Fuzzer %0.2f초가 걸렸습니다.\" % (n, grammar_run_time)"
      ],
      "metadata": {
        "id": "dp_TGXs0xR1c",
        "colab": {
          "base_uri": "https://localhost:8080/",
          "height": 35
        },
        "outputId": "f6ad7bc1-c052-44d6-c3f1-4ea201bbc1c9"
      },
      "execution_count": null,
      "outputs": [
        {
          "output_type": "execute_result",
          "data": {
            "text/plain": [
              "'100 입력을 생성하고 실행하는 데 Grammar_Greybox_Fuzzer 67.02초가 걸렸습니다.'"
            ],
            "application/vnd.google.colaboratory.intrinsic+json": {
              "type": "string"
            }
          },
          "metadata": {},
          "execution_count": 25
        }
      ]
    },
    {
      "cell_type": "markdown",
      "source": [
        "Comparison"
      ],
      "metadata": {
        "id": "gxPkxoJCxu7K"
      }
    },
    {
      "cell_type": "code",
      "source": [
        "x = np.arange(3)\n",
        "fuzzer_nm = ['Basic', 'Boosted', 'Grammar']\n",
        "run_time = [basic_run_time, boosted_run_time, grammar_run_time]\n",
        "colors = ['y', 'dodgerblue', 'C2']\n",
        "\n",
        "plt.bar(x, run_time, color=colors)\n",
        "plt.xticks(x, fuzzer_nm)\n",
        "plt.title(\"Fuzzer's Runtime About Input \"+str(n))\n",
        "plt.xlabel('Fuzzer Name', labelpad=15)\n",
        "plt.ylabel('Run-Time (s)', labelpad=20)\n",
        "\n",
        "plt.show()"
      ],
      "metadata": {
        "id": "GT12n_P3xyxQ",
        "colab": {
          "base_uri": "https://localhost:8080/",
          "height": 487
        },
        "outputId": "d9b4740e-681f-4b1c-a731-31f79a208382"
      },
      "execution_count": null,
      "outputs": [
        {
          "output_type": "display_data",
          "data": {
            "text/plain": [
              "<Figure size 640x480 with 1 Axes>"
            ],
            "image/png": "[encoded data removed]"
          },
          "metadata": {}
        }
      ]
    },
    {
      "cell_type": "markdown",
      "source": [
        "### Coverage"
      ],
      "metadata": {
        "id": "K-4f_3RxxmSj"
      }
    },
    {
      "cell_type": "code",
      "source": [
        "_, Basic_Greybox_coverage = population_coverage(Basic_Greybox_fuzzer.inputs, my_sql_parser)\n"
      ],
      "metadata": {
        "id": "y5djjCAnxkRp"
      },
      "execution_count": null,
      "outputs": []
    },
    {
      "cell_type": "code",
      "source": [
        "_, Boosted_Greybox_coverage = population_coverage(Boosted_Greybox_Fuzzer.inputs, my_sql_parser)\n"
      ],
      "metadata": {
        "id": "qk9-nVjE51Gk"
      },
      "execution_count": null,
      "outputs": []
    },
    {
      "cell_type": "code",
      "source": [
        "_, Grammar_Greybox_coverage = population_coverage(Grammar_Greybox_Fuzzer.inputs, my_sql_parser)\n"
      ],
      "metadata": {
        "id": "QrIuQsNB5273"
      },
      "execution_count": null,
      "outputs": []
    },
    {
      "cell_type": "markdown",
      "source": [
        "Comparison"
      ],
      "metadata": {
        "id": "uPJrp0Vb57Zt"
      }
    },
    {
      "cell_type": "code",
      "source": [
        "line_grey, = plt.plot(Basic_Greybox_coverage, label=\"Basic Greybox Fuzzer\")\n",
        "line_boost, = plt.plot(Boosted_Greybox_coverage, label=\"Boosted Greybox Fuzzer\")\n",
        "line_grammar, = plt.plot(Grammar_Greybox_coverage, label=\"Grammar Greybox Fuzzer\")\n",
        "\n",
        "plt.legend(handles=[line_boost, line_grey, line_grammar])\n",
        "plt.title('Coverage over time')\n",
        "plt.xlabel('# of inputs')\n",
        "plt.ylabel('lines covered');\n",
        "plt.legend(loc='lower right')\n",
        "\n",
        "plt.show()"
      ],
      "metadata": {
        "colab": {
          "base_uri": "https://localhost:8080/",
          "height": 472
        },
        "id": "MAr6-tR854Rk",
        "outputId": "69ea9eb6-72f4-4bfd-e4b4-2c6044029377"
      },
      "execution_count": null,
      "outputs": [
        {
          "output_type": "display_data",
          "data": {
            "text/plain": [
              "<Figure size 640x480 with 1 Axes>"
            ],
            "image/png": "[encoded data removed]"
          },
          "metadata": {}
        }
      ]
    }
  ]
}